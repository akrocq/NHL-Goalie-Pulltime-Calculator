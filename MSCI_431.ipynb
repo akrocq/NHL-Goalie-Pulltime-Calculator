{
  "cells": [
    {
      "cell_type": "markdown",
      "metadata": {
        "id": "view-in-github",
        "colab_type": "text"
      },
      "source": [
        "<a href=\"https://colab.research.google.com/github/akrocq/NHL-Goalie-Pulltime-Calculator/blob/main/MSCI_431.ipynb\" target=\"_parent\"><img src=\"https://colab.research.google.com/assets/colab-badge.svg\" alt=\"Open In Colab\"/></a>"
      ]
    },
    {
      "cell_type": "markdown",
      "source": [
        "# MSCI 431 Notebook for Data Analytics / Extraction"
      ],
      "metadata": {
        "id": "Ck0zxmNMFXpi"
      }
    },
    {
      "cell_type": "markdown",
      "source": [
        "There are four parts to this notebook.\n",
        "\n",
        "# 1. Probability Extraction\n",
        "Leveraging the NHL Statistics API, we are able to extract data for NHL games throughout the 2021 season. This data includes live data relating to shots, goals, player information, and more. Leveraging this data, we are able to calculate the Markov Chain probabilities from empirical data to effectively refine the model.\n",
        "\n",
        "\n",
        "# 2. Empirical Data for Pulling the Goalie Success\n",
        "Utilizing the Chords Analytics provided dataset, we are able to find the success and failures rates of pulling the goalie. This was especially useful to compute the average time remaining of when a goalie pull was successful or resulted in failure which was utilized in the testing of conducted studies.\n",
        "\n",
        "\n",
        "\n",
        "# 3. Coach Markov Pulls Goalie Poisson Testing\n",
        "Utilizing the Coach MArkov Pulls Goalie Markov model, we backtest it in the case of Team A, the team defending the lead, scoring a goal from initially being in a neutral zone. We find the model's projected, optimal time remaining to pull the goalie to reach the state of Team A scoring. This is to find the optimal time, t, in order to compare the model's predicted time with the empirical data collected in Part 2.\n",
        "\n",
        "\n",
        "# 4. Testing our Model (Markov Momentum)\n",
        "Utilizing the probabilities gathered in the Markov Momentum model, we test and compute the optimal time remaining for different scenarios."
      ],
      "metadata": {
        "id": "-HsIWmgJFqPb"
      }
    },
    {
      "cell_type": "code",
      "execution_count": null,
      "metadata": {
        "id": "nY-pu2Fz6fBf"
      },
      "outputs": [],
      "source": [
        "import requests\n",
        "import pandas as pd\n",
        "import numpy as np\n",
        "import warnings\n",
        "import random\n",
        "warnings.filterwarnings(\"ignore\", category=FutureWarning)\n",
        "pd.options.mode.chained_assignment = None  # default='warn'"
      ]
    },
    {
      "cell_type": "markdown",
      "source": [
        "## Extracting Single, Double, and Triple Shot Probabilities for the **Even Strength** Scenario\n",
        "\n",
        "Assuming that all events happen within the third period with a minimum of three minutes remaining."
      ],
      "metadata": {
        "id": "55ZK4nNJHJGP"
      }
    },
    {
      "cell_type": "code",
      "execution_count": null,
      "metadata": {
        "id": "L1SghHGj5_QG"
      },
      "outputs": [],
      "source": [
        "def clean_even_strength_df(df):\n",
        "  df.drop('players', axis=1, inplace=True)\n",
        "  print(\"Cleaning up results...\")\n",
        "  df = pd.concat([df.drop('result', axis=1), df['result'].apply(pd.Series)], axis=1)\n",
        "  print(\"Cleaning up about...\")\n",
        "  df = pd.concat([df.drop('about', axis=1), df['about'].apply(pd.Series)], axis=1)\n",
        "  df = pd.concat([df.drop('coordinates', axis=1), df['coordinates'].apply(pd.Series)], axis=1)\n",
        "  print(\"Cleaning up team information...\")\n",
        "  df = pd.concat([df.drop('team', axis=1), df['team'].apply(pd.Series)], axis=1)\n",
        "  df.drop(['ordinalNum', 'id', 'link', 'triCode', 0], axis=1, inplace=True)\n",
        "  df.rename(columns={'name': 'teamName'}, inplace=True)\n",
        "  print(\"Cleaning up strength & goals...\")\n",
        "  df = pd.concat([df.drop('strength', axis=1), df['strength'].apply(pd.Series)], axis=1)\n",
        "  df = pd.concat([df.drop('goals', axis=1), df['goals'].apply(pd.Series)], axis=1)\n",
        "  df.rename(columns={'name': 'strength', 'home': 'home_goals', 'away':'away_goals'}, inplace=True)\n",
        "  df.drop([0, 'code'], axis=1, inplace=True)\n",
        "  df = df[df['period'] == 3]\n",
        "  print('Finishing....')\n",
        "  df['period_minutes_remaining'] = df.periodTimeRemaining.apply(lambda x: int(x.split(':')[0]))\n",
        "  df['period_seconds_remaining'] = df.periodTimeRemaining.apply(lambda x: int(x.split(':')[1]))\n",
        "  df = df[df['period_minutes_remaining'] <= 9]\n",
        "  print(\"Finshed.\")\n",
        "  return df"
      ]
    },
    {
      "cell_type": "code",
      "execution_count": null,
      "metadata": {
        "id": "Ig1_Jx2SHJfh"
      },
      "outputs": [],
      "source": [
        "def get_event_df(year):\n",
        "  API_URL = \"https://statsapi.web.nhl.com/api/v1\"\n",
        "\n",
        "  start_num = int(f'{year}020001')\n",
        "  goal_data=[]\n",
        "\n",
        "  for i in range(start_num, start_num + 1272):\n",
        "\n",
        "    response = requests.get(API_URL + f\"/game/{i}/feed/live\", params={\"Content-Type\": \"application/json\"})\n",
        "    data = response.json()\n",
        "    for j in range(len(data['liveData']['plays']['allPlays'])):\n",
        "      current_event = data['liveData']['plays']['allPlays'][j]['result']['event']\n",
        "      if ('Shot' in current_event) or ('Goal' in current_event):\n",
        "        eventInfo = data['liveData']['plays']['allPlays'][j]\n",
        "        eventInfo.update({'gameID': i})\n",
        "        goal_data.append(eventInfo)\n",
        "  return clean_even_strength_df(pd.DataFrame(goal_data))"
      ]
    },
    {
      "cell_type": "code",
      "execution_count": null,
      "metadata": {
        "id": "qGwJdySB6ukd",
        "colab": {
          "base_uri": "https://localhost:8080/"
        },
        "outputId": "c5304583-337f-40b5-bbd9-26d2248e0634"
      },
      "outputs": [
        {
          "output_type": "stream",
          "name": "stdout",
          "text": [
            "Cleaning up results...\n",
            "Cleaning up about...\n",
            "Cleaning up team information...\n",
            "Cleaning up strength & goals...\n",
            "Finishing....\n",
            "Finshed.\n"
          ]
        }
      ],
      "source": [
        "# Getting all event data from 2021\n",
        "df = get_event_df(2021)"
      ]
    },
    {
      "cell_type": "code",
      "source": [
        "def get_average_time_between_events(df):\n",
        "\n",
        "  shotMappings = {'BLOCKED_SHOT': 'SHOT', 'MISSED_SHOT': 'SHOT', 'SHOT': 'SHOT', 'GOAL': 'GOAL', 'EMERGENCY_GOALTENDER': 'SHOT'}\n",
        "  df['eventTypeId'] = df['eventTypeId'].map(shotMappings)\n",
        "  event_total = 0\n",
        "  event_seconds = 0\n",
        "  df['total_seconds_remaining'] = df['period_minutes_remaining']*60 + df['period_seconds_remaining']\n",
        "  for n in df.gameID.unique():\n",
        "    temp = df[df['gameID'] == n]\n",
        "    try:\n",
        "      temp['nextEvent'] = temp['eventTypeId'].shift(-1)\n",
        "      temp['next_event_seconds_remainining'] = temp['total_seconds_remaining'].shift(-1)\n",
        "      temp.dropna(subset=['nextEvent', 'next_event_seconds_remainining'], inplace=True)\n",
        "      for index, row in temp.iterrows():\n",
        "        event_seconds = (row['total_seconds_remaining'] - row['next_event_seconds_remainining']) + event_seconds\n",
        "        event_total = event_total + 1\n",
        "    except:\n",
        "      continue\n",
        "\n",
        "  return event_seconds/event_total"
      ],
      "metadata": {
        "id": "FP1XHZvxTO8R"
      },
      "execution_count": null,
      "outputs": []
    },
    {
      "cell_type": "code",
      "source": [
        "get_average_time_between_events(df)"
      ],
      "metadata": {
        "colab": {
          "base_uri": "https://localhost:8080/"
        },
        "id": "sPRzbI5STPQ4",
        "outputId": "ab44970e-dc60-43aa-f799-009cdd9cf673"
      },
      "execution_count": null,
      "outputs": [
        {
          "output_type": "execute_result",
          "data": {
            "text/plain": [
              "31.39426900050272"
            ]
          },
          "metadata": {},
          "execution_count": 232
        }
      ]
    },
    {
      "cell_type": "markdown",
      "source": [
        "This is what the data looks like for our calculations:"
      ],
      "metadata": {
        "id": "0j26P9O-IRlM"
      }
    },
    {
      "cell_type": "code",
      "source": [
        "df.head()"
      ],
      "metadata": {
        "id": "IW-p0djjIQ5X",
        "colab": {
          "base_uri": "https://localhost:8080/",
          "height": 612
        },
        "outputId": "511b983a-bd7a-40b1-c418-a8464e47be42"
      },
      "execution_count": null,
      "outputs": [
        {
          "output_type": "execute_result",
          "data": {
            "text/plain": [
              "        gameID         event eventCode eventTypeId  \\\n",
              "89  2021020001   Missed Shot    TBL500        SHOT   \n",
              "90  2021020001   Missed Shot    TBL492        SHOT   \n",
              "91  2021020001  Blocked Shot    TBL493        SHOT   \n",
              "92  2021020001          Shot    TBL495        SHOT   \n",
              "93  2021020001          Goal    TBL496        GOAL   \n",
              "\n",
              "                                          description secondaryType  \\\n",
              "89       Drew O'Connor Wide of Net Andrei Vasilevskiy           NaN   \n",
              "90            John Marino Over Net Andrei Vasilevskiy           NaN   \n",
              "91      John Marino shot blocked shot by Alex Killorn           NaN   \n",
              "92  Jason Zucker Wrist Shot saved by Andrei Vasile...    Wrist Shot   \n",
              "93  Dominik Simon (1) Wrist Shot, assists: Kris Le...    Wrist Shot   \n",
              "\n",
              "   gameWinningGoal emptyNet  eventIdx  eventId  ...              dateTime  \\\n",
              "89             NaN      NaN       268      500  ...  2021-10-13T01:50:54Z   \n",
              "90             NaN      NaN       269      492  ...  2021-10-13T01:50:57Z   \n",
              "91             NaN      NaN       270      493  ...  2021-10-13T01:51:05Z   \n",
              "92             NaN      NaN       273      495  ...  2021-10-13T01:52:07Z   \n",
              "93            True    False       274      496  ...  2021-10-13T01:52:51Z   \n",
              "\n",
              "       x     y             teamName strength  away_goals  home_goals  \\\n",
              "89 -61.0  14.0  Pittsburgh Penguins      NaN           2           0   \n",
              "90 -61.0  -9.0  Pittsburgh Penguins      NaN           2           0   \n",
              "91 -80.0   3.0  Tampa Bay Lightning      NaN           2           0   \n",
              "92 -73.0 -14.0  Pittsburgh Penguins      NaN           2           0   \n",
              "93 -52.0  29.0  Pittsburgh Penguins     Even           3           0   \n",
              "\n",
              "   period_minutes_remaining period_seconds_remaining  total_seconds_remaining  \n",
              "89                        9                       49                      589  \n",
              "90                        9                       46                      586  \n",
              "91                        9                       38                      578  \n",
              "92                        9                       12                      552  \n",
              "93                        8                       28                      508  \n",
              "\n",
              "[5 rows x 24 columns]"
            ],
            "text/html": [
              "\n",
              "  <div id=\"df-65f24585-45ee-4b35-b05e-3875e794fc45\">\n",
              "    <div class=\"colab-df-container\">\n",
              "      <div>\n",
              "<style scoped>\n",
              "    .dataframe tbody tr th:only-of-type {\n",
              "        vertical-align: middle;\n",
              "    }\n",
              "\n",
              "    .dataframe tbody tr th {\n",
              "        vertical-align: top;\n",
              "    }\n",
              "\n",
              "    .dataframe thead th {\n",
              "        text-align: right;\n",
              "    }\n",
              "</style>\n",
              "<table border=\"1\" class=\"dataframe\">\n",
              "  <thead>\n",
              "    <tr style=\"text-align: right;\">\n",
              "      <th></th>\n",
              "      <th>gameID</th>\n",
              "      <th>event</th>\n",
              "      <th>eventCode</th>\n",
              "      <th>eventTypeId</th>\n",
              "      <th>description</th>\n",
              "      <th>secondaryType</th>\n",
              "      <th>gameWinningGoal</th>\n",
              "      <th>emptyNet</th>\n",
              "      <th>eventIdx</th>\n",
              "      <th>eventId</th>\n",
              "      <th>...</th>\n",
              "      <th>dateTime</th>\n",
              "      <th>x</th>\n",
              "      <th>y</th>\n",
              "      <th>teamName</th>\n",
              "      <th>strength</th>\n",
              "      <th>away_goals</th>\n",
              "      <th>home_goals</th>\n",
              "      <th>period_minutes_remaining</th>\n",
              "      <th>period_seconds_remaining</th>\n",
              "      <th>total_seconds_remaining</th>\n",
              "    </tr>\n",
              "  </thead>\n",
              "  <tbody>\n",
              "    <tr>\n",
              "      <th>89</th>\n",
              "      <td>2021020001</td>\n",
              "      <td>Missed Shot</td>\n",
              "      <td>TBL500</td>\n",
              "      <td>SHOT</td>\n",
              "      <td>Drew O'Connor Wide of Net Andrei Vasilevskiy</td>\n",
              "      <td>NaN</td>\n",
              "      <td>NaN</td>\n",
              "      <td>NaN</td>\n",
              "      <td>268</td>\n",
              "      <td>500</td>\n",
              "      <td>...</td>\n",
              "      <td>2021-10-13T01:50:54Z</td>\n",
              "      <td>-61.0</td>\n",
              "      <td>14.0</td>\n",
              "      <td>Pittsburgh Penguins</td>\n",
              "      <td>NaN</td>\n",
              "      <td>2</td>\n",
              "      <td>0</td>\n",
              "      <td>9</td>\n",
              "      <td>49</td>\n",
              "      <td>589</td>\n",
              "    </tr>\n",
              "    <tr>\n",
              "      <th>90</th>\n",
              "      <td>2021020001</td>\n",
              "      <td>Missed Shot</td>\n",
              "      <td>TBL492</td>\n",
              "      <td>SHOT</td>\n",
              "      <td>John Marino Over Net Andrei Vasilevskiy</td>\n",
              "      <td>NaN</td>\n",
              "      <td>NaN</td>\n",
              "      <td>NaN</td>\n",
              "      <td>269</td>\n",
              "      <td>492</td>\n",
              "      <td>...</td>\n",
              "      <td>2021-10-13T01:50:57Z</td>\n",
              "      <td>-61.0</td>\n",
              "      <td>-9.0</td>\n",
              "      <td>Pittsburgh Penguins</td>\n",
              "      <td>NaN</td>\n",
              "      <td>2</td>\n",
              "      <td>0</td>\n",
              "      <td>9</td>\n",
              "      <td>46</td>\n",
              "      <td>586</td>\n",
              "    </tr>\n",
              "    <tr>\n",
              "      <th>91</th>\n",
              "      <td>2021020001</td>\n",
              "      <td>Blocked Shot</td>\n",
              "      <td>TBL493</td>\n",
              "      <td>SHOT</td>\n",
              "      <td>John Marino shot blocked shot by Alex Killorn</td>\n",
              "      <td>NaN</td>\n",
              "      <td>NaN</td>\n",
              "      <td>NaN</td>\n",
              "      <td>270</td>\n",
              "      <td>493</td>\n",
              "      <td>...</td>\n",
              "      <td>2021-10-13T01:51:05Z</td>\n",
              "      <td>-80.0</td>\n",
              "      <td>3.0</td>\n",
              "      <td>Tampa Bay Lightning</td>\n",
              "      <td>NaN</td>\n",
              "      <td>2</td>\n",
              "      <td>0</td>\n",
              "      <td>9</td>\n",
              "      <td>38</td>\n",
              "      <td>578</td>\n",
              "    </tr>\n",
              "    <tr>\n",
              "      <th>92</th>\n",
              "      <td>2021020001</td>\n",
              "      <td>Shot</td>\n",
              "      <td>TBL495</td>\n",
              "      <td>SHOT</td>\n",
              "      <td>Jason Zucker Wrist Shot saved by Andrei Vasile...</td>\n",
              "      <td>Wrist Shot</td>\n",
              "      <td>NaN</td>\n",
              "      <td>NaN</td>\n",
              "      <td>273</td>\n",
              "      <td>495</td>\n",
              "      <td>...</td>\n",
              "      <td>2021-10-13T01:52:07Z</td>\n",
              "      <td>-73.0</td>\n",
              "      <td>-14.0</td>\n",
              "      <td>Pittsburgh Penguins</td>\n",
              "      <td>NaN</td>\n",
              "      <td>2</td>\n",
              "      <td>0</td>\n",
              "      <td>9</td>\n",
              "      <td>12</td>\n",
              "      <td>552</td>\n",
              "    </tr>\n",
              "    <tr>\n",
              "      <th>93</th>\n",
              "      <td>2021020001</td>\n",
              "      <td>Goal</td>\n",
              "      <td>TBL496</td>\n",
              "      <td>GOAL</td>\n",
              "      <td>Dominik Simon (1) Wrist Shot, assists: Kris Le...</td>\n",
              "      <td>Wrist Shot</td>\n",
              "      <td>True</td>\n",
              "      <td>False</td>\n",
              "      <td>274</td>\n",
              "      <td>496</td>\n",
              "      <td>...</td>\n",
              "      <td>2021-10-13T01:52:51Z</td>\n",
              "      <td>-52.0</td>\n",
              "      <td>29.0</td>\n",
              "      <td>Pittsburgh Penguins</td>\n",
              "      <td>Even</td>\n",
              "      <td>3</td>\n",
              "      <td>0</td>\n",
              "      <td>8</td>\n",
              "      <td>28</td>\n",
              "      <td>508</td>\n",
              "    </tr>\n",
              "  </tbody>\n",
              "</table>\n",
              "<p>5 rows × 24 columns</p>\n",
              "</div>\n",
              "      <button class=\"colab-df-convert\" onclick=\"convertToInteractive('df-65f24585-45ee-4b35-b05e-3875e794fc45')\"\n",
              "              title=\"Convert this dataframe to an interactive table.\"\n",
              "              style=\"display:none;\">\n",
              "        \n",
              "  <svg xmlns=\"http://www.w3.org/2000/svg\" height=\"24px\"viewBox=\"0 0 24 24\"\n",
              "       width=\"24px\">\n",
              "    <path d=\"M0 0h24v24H0V0z\" fill=\"none\"/>\n",
              "    <path d=\"M18.56 5.44l.94 2.06.94-2.06 2.06-.94-2.06-.94-.94-2.06-.94 2.06-2.06.94zm-11 1L8.5 8.5l.94-2.06 2.06-.94-2.06-.94L8.5 2.5l-.94 2.06-2.06.94zm10 10l.94 2.06.94-2.06 2.06-.94-2.06-.94-.94-2.06-.94 2.06-2.06.94z\"/><path d=\"M17.41 7.96l-1.37-1.37c-.4-.4-.92-.59-1.43-.59-.52 0-1.04.2-1.43.59L10.3 9.45l-7.72 7.72c-.78.78-.78 2.05 0 2.83L4 21.41c.39.39.9.59 1.41.59.51 0 1.02-.2 1.41-.59l7.78-7.78 2.81-2.81c.8-.78.8-2.07 0-2.86zM5.41 20L4 18.59l7.72-7.72 1.47 1.35L5.41 20z\"/>\n",
              "  </svg>\n",
              "      </button>\n",
              "      \n",
              "  <style>\n",
              "    .colab-df-container {\n",
              "      display:flex;\n",
              "      flex-wrap:wrap;\n",
              "      gap: 12px;\n",
              "    }\n",
              "\n",
              "    .colab-df-convert {\n",
              "      background-color: #E8F0FE;\n",
              "      border: none;\n",
              "      border-radius: 50%;\n",
              "      cursor: pointer;\n",
              "      display: none;\n",
              "      fill: #1967D2;\n",
              "      height: 32px;\n",
              "      padding: 0 0 0 0;\n",
              "      width: 32px;\n",
              "    }\n",
              "\n",
              "    .colab-df-convert:hover {\n",
              "      background-color: #E2EBFA;\n",
              "      box-shadow: 0px 1px 2px rgba(60, 64, 67, 0.3), 0px 1px 3px 1px rgba(60, 64, 67, 0.15);\n",
              "      fill: #174EA6;\n",
              "    }\n",
              "\n",
              "    [theme=dark] .colab-df-convert {\n",
              "      background-color: #3B4455;\n",
              "      fill: #D2E3FC;\n",
              "    }\n",
              "\n",
              "    [theme=dark] .colab-df-convert:hover {\n",
              "      background-color: #434B5C;\n",
              "      box-shadow: 0px 1px 3px 1px rgba(0, 0, 0, 0.15);\n",
              "      filter: drop-shadow(0px 1px 2px rgba(0, 0, 0, 0.3));\n",
              "      fill: #FFFFFF;\n",
              "    }\n",
              "  </style>\n",
              "\n",
              "      <script>\n",
              "        const buttonEl =\n",
              "          document.querySelector('#df-65f24585-45ee-4b35-b05e-3875e794fc45 button.colab-df-convert');\n",
              "        buttonEl.style.display =\n",
              "          google.colab.kernel.accessAllowed ? 'block' : 'none';\n",
              "\n",
              "        async function convertToInteractive(key) {\n",
              "          const element = document.querySelector('#df-65f24585-45ee-4b35-b05e-3875e794fc45');\n",
              "          const dataTable =\n",
              "            await google.colab.kernel.invokeFunction('convertToInteractive',\n",
              "                                                     [key], {});\n",
              "          if (!dataTable) return;\n",
              "\n",
              "          const docLinkHtml = 'Like what you see? Visit the ' +\n",
              "            '<a target=\"_blank\" href=https://colab.research.google.com/notebooks/data_table.ipynb>data table notebook</a>'\n",
              "            + ' to learn more about interactive tables.';\n",
              "          element.innerHTML = '';\n",
              "          dataTable['output_type'] = 'display_data';\n",
              "          await google.colab.output.renderOutput(dataTable, element);\n",
              "          const docLink = document.createElement('div');\n",
              "          docLink.innerHTML = docLinkHtml;\n",
              "          element.appendChild(docLink);\n",
              "        }\n",
              "      </script>\n",
              "    </div>\n",
              "  </div>\n",
              "  "
            ]
          },
          "metadata": {},
          "execution_count": 233
        }
      ]
    },
    {
      "cell_type": "code",
      "source": [
        "def get_probability_single_shot(df):\n",
        "\n",
        "  shotMappings = {'BLOCKED_SHOT': 'SHOT', 'MISSED_SHOT': 'SHOT', 'SHOT': 'SHOT', 'GOAL': 'GOAL', 'EMERGENCY_GOALTENDER': 'SHOT'}\n",
        "  df['eventTypeId'] = df['eventTypeId'].map(shotMappings)\n",
        "  probs = dict(\n",
        "      sameTeamShot = 0,\n",
        "      sameTeamGoal = 0,\n",
        "      diffTeamShot = 0,\n",
        "      diffTeamGoal = 0,\n",
        "  )\n",
        "  total = 0\n",
        "  for n in df.gameID.unique():\n",
        "    temp = df[df['gameID'] == n]\n",
        "    teams = temp.teamName.unique()\n",
        "    try:\n",
        "      A, B = teams[0], teams[1]\n",
        "      temp['teamA'] = A\n",
        "      temp['teamB'] = B\n",
        "      temp.rename(columns={'teamName':'eventTeam'}, inplace=True)\n",
        "      temp['nextEvent'] = temp['eventTypeId'].shift(-1)\n",
        "      temp['nextTeam'] = temp['eventTeam'].shift(-1)\n",
        "      temp.dropna(subset=['nextEvent', 'nextTeam'], inplace=True)\n",
        "      for index, row in temp.iterrows():\n",
        "        if (row['eventTypeId'] == 'SHOT') and ((row['eventTeam'] == A)):\n",
        "          total = total + 1\n",
        "          if row['nextTeam'] == A:\n",
        "            if row['nextEvent'] == 'SHOT':\n",
        "              probs['sameTeamShot'] = probs['sameTeamShot'] + 1\n",
        "            elif row['nextEvent'] == 'GOAL':\n",
        "              probs['sameTeamGoal'] = probs['sameTeamGoal'] + 1\n",
        "          elif row['nextTeam'] == B:\n",
        "            if row['nextEvent'] == 'SHOT':\n",
        "              probs['diffTeamShot'] = probs['diffTeamShot'] + 1\n",
        "            elif row['nextEvent'] == 'GOAL':\n",
        "              probs['diffTeamGoal'] = probs['diffTeamGoal'] + 1\n",
        "    except:\n",
        "      continue\n",
        "\n",
        "  for val in probs.keys():\n",
        "    probs[val] = probs[val] / total\n",
        "  return probs"
      ],
      "metadata": {
        "id": "eIAzDEoFkkcr"
      },
      "execution_count": null,
      "outputs": []
    },
    {
      "cell_type": "code",
      "source": [
        "get_probability_single_shot(df)"
      ],
      "metadata": {
        "colab": {
          "base_uri": "https://localhost:8080/"
        },
        "id": "TpqrJSbgrJqO",
        "outputId": "f43a3827-59cb-4e83-bbb2-31a560a805b0"
      },
      "execution_count": null,
      "outputs": [
        {
          "output_type": "execute_result",
          "data": {
            "text/plain": [
              "{'sameTeamShot': 0.4989542602527962,\n",
              " 'sameTeamGoal': 0.03619168864235701,\n",
              " 'diffTeamShot': 0.4316631808675093,\n",
              " 'diffTeamGoal': 0.03319087023733745}"
            ]
          },
          "metadata": {},
          "execution_count": 235
        }
      ]
    },
    {
      "cell_type": "code",
      "source": [
        "def get_probability_double_shot(df):\n",
        "\n",
        "  shotMappings = {'BLOCKED_SHOT': 'SHOT', 'MISSED_SHOT': 'SHOT', 'SHOT': 'SHOT', 'GOAL': 'GOAL', 'EMERGENCY_GOALTENDER': 'SHOT'}\n",
        "  df['eventTypeId'] = df['eventTypeId'].map(shotMappings)\n",
        "  probs = dict(\n",
        "      sameTeamShot = 0,\n",
        "      sameTeamGoal = 0,\n",
        "      diffTeamShot = 0,\n",
        "      diffTeamGoal = 0,\n",
        "  )\n",
        "  total = 0\n",
        "  for n in df.gameID.unique():\n",
        "    temp = df[df['gameID'] == n]\n",
        "    teams = temp.teamName.unique()\n",
        "    try:\n",
        "      A, B = teams[0], teams[1]\n",
        "      temp['teamA'] = A\n",
        "      temp['teamB'] = B\n",
        "      temp.rename(columns={'teamName':'eventTeam'}, inplace=True)\n",
        "      temp['nextEvent'] = temp['eventTypeId'].shift(-1)\n",
        "      temp['nextTeam'] = temp['eventTeam'].shift(-1)\n",
        "      temp['nextnextEvent'] = temp['eventTypeId'].shift(-2)\n",
        "      temp['nextnextTeam'] = temp['eventTeam'].shift(-2)\n",
        "      temp.dropna(subset=['nextEvent', 'nextTeam', 'nextnextEvent', 'nextnextTeam'], inplace=True)\n",
        "      for index, row in temp.iterrows():\n",
        "        if (row['eventTypeId'] == 'SHOT') and (row['eventTeam'] == A) and (row['nextEvent'] == 'SHOT') and (row['nextTeam'] == A):\n",
        "          total = total + 1\n",
        "          if row['nextnextTeam'] == A:\n",
        "            if row['nextnextEvent'] == 'SHOT':\n",
        "              probs['sameTeamShot'] = probs['sameTeamShot'] + 1\n",
        "            elif row['nextnextEvent'] == 'GOAL':\n",
        "              probs['sameTeamGoal'] = probs['sameTeamGoal'] + 1\n",
        "          elif row['nextnextTeam'] == B:\n",
        "            if row['nextnextEvent'] == 'SHOT':\n",
        "              probs['diffTeamShot'] = probs['diffTeamShot'] + 1\n",
        "            elif row['nextnextEvent'] == 'GOAL':\n",
        "              probs['diffTeamGoal'] = probs['diffTeamGoal'] + 1\n",
        "    except:\n",
        "      continue\n",
        "\n",
        "  for val in probs.keys():\n",
        "    probs[val] = probs[val] / total\n",
        "  return probs"
      ],
      "metadata": {
        "id": "7Eo1f5lIrJtI"
      },
      "execution_count": null,
      "outputs": []
    },
    {
      "cell_type": "code",
      "source": [
        "get_probability_double_shot(df)"
      ],
      "metadata": {
        "colab": {
          "base_uri": "https://localhost:8080/"
        },
        "id": "NVkHHIdRrJut",
        "outputId": "38d5a398-2546-4a49-f284-768ec2f963dc"
      },
      "execution_count": null,
      "outputs": [
        {
          "output_type": "execute_result",
          "data": {
            "text/plain": [
              "{'sameTeamShot': 0.5090038314176245,\n",
              " 'sameTeamGoal': 0.03773946360153257,\n",
              " 'diffTeamShot': 0.41954022988505746,\n",
              " 'diffTeamGoal': 0.03371647509578544}"
            ]
          },
          "metadata": {},
          "execution_count": 237
        }
      ]
    },
    {
      "cell_type": "code",
      "source": [
        "def get_probability_triple_shot(df):\n",
        "\n",
        "  shotMappings = {'BLOCKED_SHOT': 'SHOT', 'MISSED_SHOT': 'SHOT', 'SHOT': 'SHOT', 'GOAL': 'GOAL', 'EMERGENCY_GOALTENDER': 'SHOT'}\n",
        "  df['eventTypeId'] = df['eventTypeId'].map(shotMappings)\n",
        "  probs = dict(\n",
        "      sameTeamShot = 0,\n",
        "      sameTeamGoal = 0,\n",
        "      diffTeamShot = 0,\n",
        "      diffTeamGoal = 0,\n",
        "  )\n",
        "  total = 0\n",
        "  for n in df.gameID.unique():\n",
        "    temp = df[df['gameID'] == n]\n",
        "    teams = temp.teamName.unique()\n",
        "    try:\n",
        "      A, B = teams[0], teams[1]\n",
        "      temp['teamA'] = A\n",
        "      temp['teamB'] = B\n",
        "      temp.rename(columns={'teamName':'eventTeam'}, inplace=True)\n",
        "      temp['nextEvent'] = temp['eventTypeId'].shift(-1)\n",
        "      temp['nextTeam'] = temp['eventTeam'].shift(-1)\n",
        "      temp['nextnextEvent'] = temp['eventTypeId'].shift(-2)\n",
        "      temp['nextnextTeam'] = temp['eventTeam'].shift(-2)\n",
        "      temp['nextnextnextEvent'] = temp['eventTypeId'].shift(-3)\n",
        "      temp['nextnextnextTeam'] = temp['eventTeam'].shift(-3)\n",
        "      temp.dropna(subset=['nextEvent', 'nextTeam', 'nextnextEvent', 'nextnextTeam', 'nextnextnextEvent', 'nextnextnextTeam'], inplace=True)\n",
        "      for index, row in temp.iterrows():\n",
        "        if (row['eventTypeId'] == 'SHOT') and (row['eventTeam'] == A) and (row['nextEvent'] == 'SHOT') and (row['nextTeam'] == A) and (row['nextnextEvent'] == 'SHOT') and (row['nextnextTeam'] == A):\n",
        "          total = total + 1\n",
        "          if row['nextnextnextTeam'] == A:\n",
        "            if row['nextnextnextEvent'] == 'SHOT':\n",
        "              probs['sameTeamShot'] = probs['sameTeamShot'] + 1\n",
        "            elif row['nextnextnextEvent'] == 'GOAL':\n",
        "              probs['sameTeamGoal'] = probs['sameTeamGoal'] + 1\n",
        "          elif row['nextnextnextTeam'] == B:\n",
        "            if row['nextnextnextEvent'] == 'SHOT':\n",
        "              probs['diffTeamShot'] = probs['diffTeamShot'] + 1\n",
        "            elif row['nextnextnextEvent'] == 'GOAL':\n",
        "              probs['diffTeamGoal'] = probs['diffTeamGoal'] + 1\n",
        "    except:\n",
        "      continue\n",
        "\n",
        "  for val in probs.keys():\n",
        "    probs[val] = probs[val] / total\n",
        "  return probs"
      ],
      "metadata": {
        "id": "wAzCzqGrrJxh"
      },
      "execution_count": null,
      "outputs": []
    },
    {
      "cell_type": "code",
      "source": [
        "get_probability_triple_shot(df)"
      ],
      "metadata": {
        "colab": {
          "base_uri": "https://localhost:8080/"
        },
        "id": "oTerEu4WrJzc",
        "outputId": "f762b1a8-0647-4b80-9887-7f07f582d94e"
      },
      "execution_count": null,
      "outputs": [
        {
          "output_type": "execute_result",
          "data": {
            "text/plain": [
              "{'sameTeamShot': 0.5170094936708861,\n",
              " 'sameTeamGoal': 0.037183544303797465,\n",
              " 'diffTeamShot': 0.4125791139240506,\n",
              " 'diffTeamGoal': 0.03322784810126582}"
            ]
          },
          "metadata": {},
          "execution_count": 239
        }
      ]
    },
    {
      "cell_type": "markdown",
      "source": [
        "Here we calculate the probability of a shot or goal happening directly after a game reaches the \"Period 3, 10 minutes remaining mark.\""
      ],
      "metadata": {
        "id": "V6t-stRkHabU"
      }
    },
    {
      "cell_type": "code",
      "source": [
        "def get_next_action_probability(df):\n",
        "\n",
        "  df = df[abs(df['away_goals'] - df['home_goals']) > 0]\n",
        "\n",
        "  shotMappings = {'BLOCKED_SHOT': 'SHOT', 'MISSED_SHOT': 'SHOT', 'SHOT': 'SHOT', 'GOAL': 'GOAL', 'EMERGENCY_GOALTENDER': 'SHOT'}\n",
        "  df['eventTypeId'] = df['eventTypeId'].map(shotMappings)\n",
        "  probs = dict(\n",
        "      shotA = 0,\n",
        "      goalA = 0,\n",
        "  )\n",
        "  total = 0\n",
        "  for n in df.gameID.unique():\n",
        "    temp = df[df['gameID'] == n]\n",
        "    try:\n",
        "      temp.rename(columns={'teamName':'eventTeam'}, inplace=True)\n",
        "      total = total + 1\n",
        "      action = temp['eventTypeId'].iloc[0]\n",
        "      if action == 'SHOT':\n",
        "        probs['shotA'] = probs['shotA'] + 1\n",
        "      elif action == 'GOAL':\n",
        "        probs['goalA'] = probs['goalA'] + 1\n",
        "    except:\n",
        "      continue\n",
        "\n",
        "  for val in probs.keys():\n",
        "    probs[val] = probs[val] / total / 2\n",
        "  probs['shotB'] = probs['shotA']\n",
        "  probs['goalB'] = probs['goalA']\n",
        "  return probs"
      ],
      "metadata": {
        "id": "pbLIP-QMuieS"
      },
      "execution_count": null,
      "outputs": []
    },
    {
      "cell_type": "code",
      "source": [
        "get_next_action_probability(df)"
      ],
      "metadata": {
        "colab": {
          "base_uri": "https://localhost:8080/"
        },
        "id": "Y-Tr9ZqDz2it",
        "outputId": "3716e945-12cd-4a91-b2a2-a236b4fc4c8e"
      },
      "execution_count": null,
      "outputs": [
        {
          "output_type": "execute_result",
          "data": {
            "text/plain": [
              "{'shotA': 0.4193965517241379,\n",
              " 'goalA': 0.08060344827586206,\n",
              " 'shotB': 0.4193965517241379,\n",
              " 'goalB': 0.08060344827586206}"
            ]
          },
          "metadata": {},
          "execution_count": 241
        }
      ]
    },
    {
      "cell_type": "markdown",
      "source": [
        "## Extracting Single, Double, and Triple Shot Probabilities for the **Empty Net** Scenario\n",
        "\n",
        "Assuming that all events happen within the third period with a minimum of three minutes remaining."
      ],
      "metadata": {
        "id": "kbq8JLLrHt6T"
      }
    },
    {
      "cell_type": "code",
      "source": [
        "def clean_empty_net_df(df):\n",
        "  df.drop('players', axis=1, inplace=True)\n",
        "  print(\"Cleaning up results...\")\n",
        "  df = pd.concat([df.drop('result', axis=1), df['result'].apply(pd.Series)], axis=1)\n",
        "  print(\"Cleaning up about...\")\n",
        "  df = pd.concat([df.drop('about', axis=1), df['about'].apply(pd.Series)], axis=1)\n",
        "  df = pd.concat([df.drop('coordinates', axis=1), df['coordinates'].apply(pd.Series)], axis=1)\n",
        "  print(\"Cleaning up team information...\")\n",
        "  df = pd.concat([df.drop('team', axis=1), df['team'].apply(pd.Series)], axis=1)\n",
        "  df.drop(['ordinalNum', 'id', 'link', 'triCode'], axis=1, inplace=True)\n",
        "  df.rename(columns={'name': 'teamName'}, inplace=True)\n",
        "  print(\"Finshing...\")\n",
        "  df = pd.concat([df.drop('strength', axis=1), df['strength'].apply(pd.Series)], axis=1)\n",
        "  df = pd.concat([df.drop('goals', axis=1), df['goals'].apply(pd.Series)], axis=1)\n",
        "  df.rename(columns={'name': 'strength', 'home': 'home_goals', 'away':'away_goals'}, inplace=True)\n",
        "  df.drop([0, 'code'], axis=1, inplace=True)\n",
        "  print(\"Finshed.\")\n",
        "  return df"
      ],
      "metadata": {
        "id": "sMx2M_cyH9An"
      },
      "execution_count": null,
      "outputs": []
    },
    {
      "cell_type": "code",
      "source": [
        "def get_empty_net_df(year):\n",
        "  API_URL = \"https://statsapi.web.nhl.com/api/v1\"\n",
        "\n",
        "  start_num = int(f'{year}020001')\n",
        "  goal_data=[]\n",
        "  flag = None\n",
        "\n",
        "  for i in range(start_num, start_num + 1272):\n",
        "\n",
        "    response = requests.get(API_URL + f\"/game/{i}/feed/live\", params={\"Content-Type\": \"application/json\"})\n",
        "    data = response.json()\n",
        "\n",
        "    for player in data['liveData']['boxscore']['teams']['home']['players']:\n",
        "      if data['liveData']['boxscore']['teams']['home']['players'][player]['position']['name'] == 'Goalie':\n",
        "        time_on_ice = (data['liveData']['boxscore']['teams']['home']['players'][player]['stats']['goalieStats']['timeOnIce'])\n",
        "        time_on_ice_min = time_on_ice.split(':')[0]\n",
        "        time_on_ice_sec = time_on_ice.split(':')[1]\n",
        "        time_on_ice = float(f'{time_on_ice_min}.{time_on_ice_sec}')\n",
        "        try:\n",
        "          if time_on_ice < 41 and time_on_ice_min > 59.5:\n",
        "            flag = True\n",
        "            continue\n",
        "          if time_on_ice < 21 and time_on_ice_min > 39.5:\n",
        "            flag = True\n",
        "            continue\n",
        "          if time_on_ice < 1 and time_on_ice_min > 19.5:\n",
        "            flag = True\n",
        "            continue\n",
        "        except:\n",
        "          flag = True\n",
        "          continue\n",
        "    if flag:\n",
        "      continue\n",
        "    for j in range(len(data['liveData']['plays']['allPlays'])):\n",
        "      current_event = data['liveData']['plays']['allPlays'][j]['result']['event']\n",
        "      if ('Shot' in current_event) or ('Goal' in current_event):\n",
        "        eventInfo = data['liveData']['plays']['allPlays'][j]\n",
        "        eventInfo.update({'gameID': i})\n",
        "        goal_data.append(eventInfo)\n",
        "  return clean_empty_net_df(pd.DataFrame(goal_data))"
      ],
      "metadata": {
        "id": "bpfPJGPWzEcL"
      },
      "execution_count": null,
      "outputs": []
    },
    {
      "cell_type": "code",
      "source": [
        "df2 = get_empty_net_df(2021)\n",
        "df2 = df2[df2['period'] == 3]\n",
        "df2['period_minutes_remaining'] = df2.periodTimeRemaining.apply(lambda x: int(x.split(':')[0]))\n",
        "df2['period_seconds_remaining'] = df2.periodTimeRemaining.apply(lambda x: int(x.split(':')[1]))\n",
        "df2 = df2[df2['period_minutes_remaining'] <= 9]"
      ],
      "metadata": {
        "colab": {
          "base_uri": "https://localhost:8080/"
        },
        "id": "tofyJTnjzEeD",
        "outputId": "54d4d4dd-ca96-442e-ab31-c492a84d062e"
      },
      "execution_count": null,
      "outputs": [
        {
          "output_type": "stream",
          "name": "stdout",
          "text": [
            "Cleaning up results...\n",
            "Cleaning up about...\n",
            "Cleaning up team information...\n",
            "Finshing...\n",
            "Finshed.\n"
          ]
        }
      ]
    },
    {
      "cell_type": "markdown",
      "source": [
        "This is what the data looks like for our calculations:"
      ],
      "metadata": {
        "id": "D0fJvsSdIHso"
      }
    },
    {
      "cell_type": "code",
      "source": [
        "df2.head()"
      ],
      "metadata": {
        "colab": {
          "base_uri": "https://localhost:8080/",
          "height": 612
        },
        "id": "NgwIfs_szEfs",
        "outputId": "4ef40e05-ef77-499f-bd6b-daa19c9ea4da"
      },
      "execution_count": null,
      "outputs": [
        {
          "output_type": "execute_result",
          "data": {
            "text/plain": [
              "        gameID         event eventCode   eventTypeId  \\\n",
              "89  2021020001   Missed Shot    TBL500   MISSED_SHOT   \n",
              "90  2021020001   Missed Shot    TBL492   MISSED_SHOT   \n",
              "91  2021020001  Blocked Shot    TBL493  BLOCKED_SHOT   \n",
              "92  2021020001          Shot    TBL495          SHOT   \n",
              "93  2021020001          Goal    TBL496          GOAL   \n",
              "\n",
              "                                          description secondaryType  \\\n",
              "89       Drew O'Connor Wide of Net Andrei Vasilevskiy           NaN   \n",
              "90            John Marino Over Net Andrei Vasilevskiy           NaN   \n",
              "91      John Marino shot blocked shot by Alex Killorn           NaN   \n",
              "92  Jason Zucker Wrist Shot saved by Andrei Vasile...    Wrist Shot   \n",
              "93  Dominik Simon (1) Wrist Shot, assists: Kris Le...    Wrist Shot   \n",
              "\n",
              "   gameWinningGoal emptyNet  eventIdx  eventId  ...  periodTimeRemaining  \\\n",
              "89             NaN      NaN       268      500  ...                09:49   \n",
              "90             NaN      NaN       269      492  ...                09:46   \n",
              "91             NaN      NaN       270      493  ...                09:38   \n",
              "92             NaN      NaN       273      495  ...                09:12   \n",
              "93            True    False       274      496  ...                08:28   \n",
              "\n",
              "                dateTime     x     y             teamName  strength  \\\n",
              "89  2021-10-13T01:50:54Z -61.0  14.0  Pittsburgh Penguins       NaN   \n",
              "90  2021-10-13T01:50:57Z -61.0  -9.0  Pittsburgh Penguins       NaN   \n",
              "91  2021-10-13T01:51:05Z -80.0   3.0  Tampa Bay Lightning       NaN   \n",
              "92  2021-10-13T01:52:07Z -73.0 -14.0  Pittsburgh Penguins       NaN   \n",
              "93  2021-10-13T01:52:51Z -52.0  29.0  Pittsburgh Penguins      Even   \n",
              "\n",
              "    away_goals home_goals period_minutes_remaining  period_seconds_remaining  \n",
              "89           2          0                        9                        49  \n",
              "90           2          0                        9                        46  \n",
              "91           2          0                        9                        38  \n",
              "92           2          0                        9                        12  \n",
              "93           3          0                        8                        28  \n",
              "\n",
              "[5 rows x 23 columns]"
            ],
            "text/html": [
              "\n",
              "  <div id=\"df-38fc5374-83ff-4f4d-aa45-e843b1ace74e\">\n",
              "    <div class=\"colab-df-container\">\n",
              "      <div>\n",
              "<style scoped>\n",
              "    .dataframe tbody tr th:only-of-type {\n",
              "        vertical-align: middle;\n",
              "    }\n",
              "\n",
              "    .dataframe tbody tr th {\n",
              "        vertical-align: top;\n",
              "    }\n",
              "\n",
              "    .dataframe thead th {\n",
              "        text-align: right;\n",
              "    }\n",
              "</style>\n",
              "<table border=\"1\" class=\"dataframe\">\n",
              "  <thead>\n",
              "    <tr style=\"text-align: right;\">\n",
              "      <th></th>\n",
              "      <th>gameID</th>\n",
              "      <th>event</th>\n",
              "      <th>eventCode</th>\n",
              "      <th>eventTypeId</th>\n",
              "      <th>description</th>\n",
              "      <th>secondaryType</th>\n",
              "      <th>gameWinningGoal</th>\n",
              "      <th>emptyNet</th>\n",
              "      <th>eventIdx</th>\n",
              "      <th>eventId</th>\n",
              "      <th>...</th>\n",
              "      <th>periodTimeRemaining</th>\n",
              "      <th>dateTime</th>\n",
              "      <th>x</th>\n",
              "      <th>y</th>\n",
              "      <th>teamName</th>\n",
              "      <th>strength</th>\n",
              "      <th>away_goals</th>\n",
              "      <th>home_goals</th>\n",
              "      <th>period_minutes_remaining</th>\n",
              "      <th>period_seconds_remaining</th>\n",
              "    </tr>\n",
              "  </thead>\n",
              "  <tbody>\n",
              "    <tr>\n",
              "      <th>89</th>\n",
              "      <td>2021020001</td>\n",
              "      <td>Missed Shot</td>\n",
              "      <td>TBL500</td>\n",
              "      <td>MISSED_SHOT</td>\n",
              "      <td>Drew O'Connor Wide of Net Andrei Vasilevskiy</td>\n",
              "      <td>NaN</td>\n",
              "      <td>NaN</td>\n",
              "      <td>NaN</td>\n",
              "      <td>268</td>\n",
              "      <td>500</td>\n",
              "      <td>...</td>\n",
              "      <td>09:49</td>\n",
              "      <td>2021-10-13T01:50:54Z</td>\n",
              "      <td>-61.0</td>\n",
              "      <td>14.0</td>\n",
              "      <td>Pittsburgh Penguins</td>\n",
              "      <td>NaN</td>\n",
              "      <td>2</td>\n",
              "      <td>0</td>\n",
              "      <td>9</td>\n",
              "      <td>49</td>\n",
              "    </tr>\n",
              "    <tr>\n",
              "      <th>90</th>\n",
              "      <td>2021020001</td>\n",
              "      <td>Missed Shot</td>\n",
              "      <td>TBL492</td>\n",
              "      <td>MISSED_SHOT</td>\n",
              "      <td>John Marino Over Net Andrei Vasilevskiy</td>\n",
              "      <td>NaN</td>\n",
              "      <td>NaN</td>\n",
              "      <td>NaN</td>\n",
              "      <td>269</td>\n",
              "      <td>492</td>\n",
              "      <td>...</td>\n",
              "      <td>09:46</td>\n",
              "      <td>2021-10-13T01:50:57Z</td>\n",
              "      <td>-61.0</td>\n",
              "      <td>-9.0</td>\n",
              "      <td>Pittsburgh Penguins</td>\n",
              "      <td>NaN</td>\n",
              "      <td>2</td>\n",
              "      <td>0</td>\n",
              "      <td>9</td>\n",
              "      <td>46</td>\n",
              "    </tr>\n",
              "    <tr>\n",
              "      <th>91</th>\n",
              "      <td>2021020001</td>\n",
              "      <td>Blocked Shot</td>\n",
              "      <td>TBL493</td>\n",
              "      <td>BLOCKED_SHOT</td>\n",
              "      <td>John Marino shot blocked shot by Alex Killorn</td>\n",
              "      <td>NaN</td>\n",
              "      <td>NaN</td>\n",
              "      <td>NaN</td>\n",
              "      <td>270</td>\n",
              "      <td>493</td>\n",
              "      <td>...</td>\n",
              "      <td>09:38</td>\n",
              "      <td>2021-10-13T01:51:05Z</td>\n",
              "      <td>-80.0</td>\n",
              "      <td>3.0</td>\n",
              "      <td>Tampa Bay Lightning</td>\n",
              "      <td>NaN</td>\n",
              "      <td>2</td>\n",
              "      <td>0</td>\n",
              "      <td>9</td>\n",
              "      <td>38</td>\n",
              "    </tr>\n",
              "    <tr>\n",
              "      <th>92</th>\n",
              "      <td>2021020001</td>\n",
              "      <td>Shot</td>\n",
              "      <td>TBL495</td>\n",
              "      <td>SHOT</td>\n",
              "      <td>Jason Zucker Wrist Shot saved by Andrei Vasile...</td>\n",
              "      <td>Wrist Shot</td>\n",
              "      <td>NaN</td>\n",
              "      <td>NaN</td>\n",
              "      <td>273</td>\n",
              "      <td>495</td>\n",
              "      <td>...</td>\n",
              "      <td>09:12</td>\n",
              "      <td>2021-10-13T01:52:07Z</td>\n",
              "      <td>-73.0</td>\n",
              "      <td>-14.0</td>\n",
              "      <td>Pittsburgh Penguins</td>\n",
              "      <td>NaN</td>\n",
              "      <td>2</td>\n",
              "      <td>0</td>\n",
              "      <td>9</td>\n",
              "      <td>12</td>\n",
              "    </tr>\n",
              "    <tr>\n",
              "      <th>93</th>\n",
              "      <td>2021020001</td>\n",
              "      <td>Goal</td>\n",
              "      <td>TBL496</td>\n",
              "      <td>GOAL</td>\n",
              "      <td>Dominik Simon (1) Wrist Shot, assists: Kris Le...</td>\n",
              "      <td>Wrist Shot</td>\n",
              "      <td>True</td>\n",
              "      <td>False</td>\n",
              "      <td>274</td>\n",
              "      <td>496</td>\n",
              "      <td>...</td>\n",
              "      <td>08:28</td>\n",
              "      <td>2021-10-13T01:52:51Z</td>\n",
              "      <td>-52.0</td>\n",
              "      <td>29.0</td>\n",
              "      <td>Pittsburgh Penguins</td>\n",
              "      <td>Even</td>\n",
              "      <td>3</td>\n",
              "      <td>0</td>\n",
              "      <td>8</td>\n",
              "      <td>28</td>\n",
              "    </tr>\n",
              "  </tbody>\n",
              "</table>\n",
              "<p>5 rows × 23 columns</p>\n",
              "</div>\n",
              "      <button class=\"colab-df-convert\" onclick=\"convertToInteractive('df-38fc5374-83ff-4f4d-aa45-e843b1ace74e')\"\n",
              "              title=\"Convert this dataframe to an interactive table.\"\n",
              "              style=\"display:none;\">\n",
              "        \n",
              "  <svg xmlns=\"http://www.w3.org/2000/svg\" height=\"24px\"viewBox=\"0 0 24 24\"\n",
              "       width=\"24px\">\n",
              "    <path d=\"M0 0h24v24H0V0z\" fill=\"none\"/>\n",
              "    <path d=\"M18.56 5.44l.94 2.06.94-2.06 2.06-.94-2.06-.94-.94-2.06-.94 2.06-2.06.94zm-11 1L8.5 8.5l.94-2.06 2.06-.94-2.06-.94L8.5 2.5l-.94 2.06-2.06.94zm10 10l.94 2.06.94-2.06 2.06-.94-2.06-.94-.94-2.06-.94 2.06-2.06.94z\"/><path d=\"M17.41 7.96l-1.37-1.37c-.4-.4-.92-.59-1.43-.59-.52 0-1.04.2-1.43.59L10.3 9.45l-7.72 7.72c-.78.78-.78 2.05 0 2.83L4 21.41c.39.39.9.59 1.41.59.51 0 1.02-.2 1.41-.59l7.78-7.78 2.81-2.81c.8-.78.8-2.07 0-2.86zM5.41 20L4 18.59l7.72-7.72 1.47 1.35L5.41 20z\"/>\n",
              "  </svg>\n",
              "      </button>\n",
              "      \n",
              "  <style>\n",
              "    .colab-df-container {\n",
              "      display:flex;\n",
              "      flex-wrap:wrap;\n",
              "      gap: 12px;\n",
              "    }\n",
              "\n",
              "    .colab-df-convert {\n",
              "      background-color: #E8F0FE;\n",
              "      border: none;\n",
              "      border-radius: 50%;\n",
              "      cursor: pointer;\n",
              "      display: none;\n",
              "      fill: #1967D2;\n",
              "      height: 32px;\n",
              "      padding: 0 0 0 0;\n",
              "      width: 32px;\n",
              "    }\n",
              "\n",
              "    .colab-df-convert:hover {\n",
              "      background-color: #E2EBFA;\n",
              "      box-shadow: 0px 1px 2px rgba(60, 64, 67, 0.3), 0px 1px 3px 1px rgba(60, 64, 67, 0.15);\n",
              "      fill: #174EA6;\n",
              "    }\n",
              "\n",
              "    [theme=dark] .colab-df-convert {\n",
              "      background-color: #3B4455;\n",
              "      fill: #D2E3FC;\n",
              "    }\n",
              "\n",
              "    [theme=dark] .colab-df-convert:hover {\n",
              "      background-color: #434B5C;\n",
              "      box-shadow: 0px 1px 3px 1px rgba(0, 0, 0, 0.15);\n",
              "      filter: drop-shadow(0px 1px 2px rgba(0, 0, 0, 0.3));\n",
              "      fill: #FFFFFF;\n",
              "    }\n",
              "  </style>\n",
              "\n",
              "      <script>\n",
              "        const buttonEl =\n",
              "          document.querySelector('#df-38fc5374-83ff-4f4d-aa45-e843b1ace74e button.colab-df-convert');\n",
              "        buttonEl.style.display =\n",
              "          google.colab.kernel.accessAllowed ? 'block' : 'none';\n",
              "\n",
              "        async function convertToInteractive(key) {\n",
              "          const element = document.querySelector('#df-38fc5374-83ff-4f4d-aa45-e843b1ace74e');\n",
              "          const dataTable =\n",
              "            await google.colab.kernel.invokeFunction('convertToInteractive',\n",
              "                                                     [key], {});\n",
              "          if (!dataTable) return;\n",
              "\n",
              "          const docLinkHtml = 'Like what you see? Visit the ' +\n",
              "            '<a target=\"_blank\" href=https://colab.research.google.com/notebooks/data_table.ipynb>data table notebook</a>'\n",
              "            + ' to learn more about interactive tables.';\n",
              "          element.innerHTML = '';\n",
              "          dataTable['output_type'] = 'display_data';\n",
              "          await google.colab.output.renderOutput(dataTable, element);\n",
              "          const docLink = document.createElement('div');\n",
              "          docLink.innerHTML = docLinkHtml;\n",
              "          element.appendChild(docLink);\n",
              "        }\n",
              "      </script>\n",
              "    </div>\n",
              "  </div>\n",
              "  "
            ]
          },
          "metadata": {},
          "execution_count": 245
        }
      ]
    },
    {
      "cell_type": "code",
      "source": [
        "get_probability_single_shot(df2)"
      ],
      "metadata": {
        "colab": {
          "base_uri": "https://localhost:8080/"
        },
        "id": "kFjt9JPID-Zp",
        "outputId": "95d4faa5-42af-4f6a-b857-a19939912eeb"
      },
      "execution_count": null,
      "outputs": [
        {
          "output_type": "execute_result",
          "data": {
            "text/plain": [
              "{'sameTeamShot': 0.45993031358885017,\n",
              " 'sameTeamGoal': 0.024390243902439025,\n",
              " 'diffTeamShot': 0.4808362369337979,\n",
              " 'diffTeamGoal': 0.03484320557491289}"
            ]
          },
          "metadata": {},
          "execution_count": 246
        }
      ]
    },
    {
      "cell_type": "code",
      "source": [
        "get_probability_double_shot(df2)"
      ],
      "metadata": {
        "colab": {
          "base_uri": "https://localhost:8080/"
        },
        "id": "N6VLEsumD-ci",
        "outputId": "cde893b6-d85c-4c43-a5a3-1063f8d5eb60"
      },
      "execution_count": null,
      "outputs": [
        {
          "output_type": "execute_result",
          "data": {
            "text/plain": [
              "{'sameTeamShot': 0.536,\n",
              " 'sameTeamGoal': 0.016,\n",
              " 'diffTeamShot': 0.424,\n",
              " 'diffTeamGoal': 0.024}"
            ]
          },
          "metadata": {},
          "execution_count": 247
        }
      ]
    },
    {
      "cell_type": "code",
      "source": [
        "get_probability_triple_shot(df2)"
      ],
      "metadata": {
        "colab": {
          "base_uri": "https://localhost:8080/"
        },
        "id": "i-yzkKcPD-fb",
        "outputId": "3c675797-b609-4bc8-ecaa-71f388b19b3b"
      },
      "execution_count": null,
      "outputs": [
        {
          "output_type": "execute_result",
          "data": {
            "text/plain": [
              "{'sameTeamShot': 0.5555555555555556,\n",
              " 'sameTeamGoal': 0.015873015873015872,\n",
              " 'diffTeamShot': 0.3968253968253968,\n",
              " 'diffTeamGoal': 0.031746031746031744}"
            ]
          },
          "metadata": {},
          "execution_count": 248
        }
      ]
    },
    {
      "cell_type": "code",
      "source": [
        "get_next_action_probability(df2)"
      ],
      "metadata": {
        "colab": {
          "base_uri": "https://localhost:8080/"
        },
        "id": "vZWJbbuED-hr",
        "outputId": "2cdb2282-af2b-47b8-e587-8dcec6467585"
      },
      "execution_count": null,
      "outputs": [
        {
          "output_type": "execute_result",
          "data": {
            "text/plain": [
              "{'shotA': 0.46875, 'goalA': 0.03125, 'shotB': 0.46875, 'goalB': 0.03125}"
            ]
          },
          "metadata": {},
          "execution_count": 249
        }
      ]
    },
    {
      "cell_type": "markdown",
      "source": [
        "## Extracting Empirical Data for Model Testing\n",
        "\n",
        "Leveraging the Chords Analytics dataset to determine the average goalie pull times, success/failure rates, and the average of the successful goalie pull time remaining values."
      ],
      "metadata": {
        "id": "Kau0TFSOIcCE"
      }
    },
    {
      "cell_type": "markdown",
      "source": [
        "To run these cells successfully, please download the CSV files from the Chords Analytics [respository]('https://github.com/chord-analytics/nhl-goalie-pull-optimization/tree/master/data/processed/csv'). Please insert the CSV files into the Google Colab 'Sample Data' folder."
      ],
      "metadata": {
        "id": "mmaDtAmBIxC4"
      }
    },
    {
      "cell_type": "code",
      "source": [
        "import pandas as pd\n",
        "import os\n",
        "\n",
        "li = []\n",
        "dir = 'sample_data'\n",
        "files =[]\n",
        "for file in os.listdir(dir):\n",
        "  if file.endswith(\".csv\") and 'goalie' in file:\n",
        "    df = pd.read_csv(f'sample_data/{file}', index_col=None, header=0)\n",
        "    li.append(df)\n",
        "frame = pd.concat(li, axis=0, ignore_index=True)\n",
        "df2 = frame"
      ],
      "metadata": {
        "id": "oUzY180SrJ9f"
      },
      "execution_count": null,
      "outputs": []
    },
    {
      "cell_type": "markdown",
      "source": [
        "This what the dataset looks like, where a non-null goal_for_time or non-null goal_against_time represent successful goals for and against respectively."
      ],
      "metadata": {
        "id": "_IkAVp8oJGHd"
      }
    },
    {
      "cell_type": "code",
      "source": [
        "df2[['pull_time', 'goal_for_time', 'goal_against_time',]].head(20)"
      ],
      "metadata": {
        "colab": {
          "base_uri": "https://localhost:8080/",
          "height": 677
        },
        "id": "s0lknWGLtGye",
        "outputId": "27b0cad8-9956-4185-9586-364ba621f04a"
      },
      "execution_count": null,
      "outputs": [
        {
          "output_type": "execute_result",
          "data": {
            "text/plain": [
              "                    pull_time              goal_for_time  \\\n",
              "0   0 days 00:18:17.000000000                        NaN   \n",
              "1   0 days 00:18:25.000000000                        NaN   \n",
              "2   0 days 00:19:24.000000000                        NaN   \n",
              "3   0 days 00:16:55.000000000                        NaN   \n",
              "4   0 days 00:17:21.000000000  0 days 00:18:12.000000000   \n",
              "5   0 days 00:18:27.500000000  0 days 00:19:25.000000000   \n",
              "6   0 days 00:19:28.000000000                        NaN   \n",
              "7   0 days 00:18:32.000000000                        NaN   \n",
              "8   0 days 00:18:17.000000000                        NaN   \n",
              "9   0 days 00:18:28.000000000                        NaN   \n",
              "10  0 days 00:10:17.500000000  0 days 00:10:27.000000000   \n",
              "11  0 days 00:19:03.500000000                        NaN   \n",
              "12  0 days 00:17:46.000000000                        NaN   \n",
              "13  0 days 00:17:32.000000000                        NaN   \n",
              "14  0 days 00:18:47.000000000  0 days 00:19:59.000000000   \n",
              "15  0 days 00:19:59.000000000                        NaN   \n",
              "16  0 days 00:17:02.000000000                        NaN   \n",
              "17  0 days 00:17:42.000000000  0 days 00:18:48.000000000   \n",
              "18  0 days 00:18:29.500000000                        NaN   \n",
              "19  0 days 00:17:27.500000000                        NaN   \n",
              "\n",
              "            goal_against_time  \n",
              "0   0 days 00:19:01.000000000  \n",
              "1   0 days 00:19:24.000000000  \n",
              "2                         NaN  \n",
              "3   0 days 00:17:07.000000000  \n",
              "4                         NaN  \n",
              "5                         NaN  \n",
              "6                         NaN  \n",
              "7   0 days 00:19:57.000000000  \n",
              "8                         NaN  \n",
              "9   0 days 00:19:46.000000000  \n",
              "10                        NaN  \n",
              "11                        NaN  \n",
              "12                        NaN  \n",
              "13  0 days 00:19:34.000000000  \n",
              "14                        NaN  \n",
              "15                        NaN  \n",
              "16                        NaN  \n",
              "17                        NaN  \n",
              "18                        NaN  \n",
              "19                        NaN  "
            ],
            "text/html": [
              "\n",
              "  <div id=\"df-364deb40-35fe-484f-9069-b0b8137fb032\">\n",
              "    <div class=\"colab-df-container\">\n",
              "      <div>\n",
              "<style scoped>\n",
              "    .dataframe tbody tr th:only-of-type {\n",
              "        vertical-align: middle;\n",
              "    }\n",
              "\n",
              "    .dataframe tbody tr th {\n",
              "        vertical-align: top;\n",
              "    }\n",
              "\n",
              "    .dataframe thead th {\n",
              "        text-align: right;\n",
              "    }\n",
              "</style>\n",
              "<table border=\"1\" class=\"dataframe\">\n",
              "  <thead>\n",
              "    <tr style=\"text-align: right;\">\n",
              "      <th></th>\n",
              "      <th>pull_time</th>\n",
              "      <th>goal_for_time</th>\n",
              "      <th>goal_against_time</th>\n",
              "    </tr>\n",
              "  </thead>\n",
              "  <tbody>\n",
              "    <tr>\n",
              "      <th>0</th>\n",
              "      <td>0 days 00:18:17.000000000</td>\n",
              "      <td>NaN</td>\n",
              "      <td>0 days 00:19:01.000000000</td>\n",
              "    </tr>\n",
              "    <tr>\n",
              "      <th>1</th>\n",
              "      <td>0 days 00:18:25.000000000</td>\n",
              "      <td>NaN</td>\n",
              "      <td>0 days 00:19:24.000000000</td>\n",
              "    </tr>\n",
              "    <tr>\n",
              "      <th>2</th>\n",
              "      <td>0 days 00:19:24.000000000</td>\n",
              "      <td>NaN</td>\n",
              "      <td>NaN</td>\n",
              "    </tr>\n",
              "    <tr>\n",
              "      <th>3</th>\n",
              "      <td>0 days 00:16:55.000000000</td>\n",
              "      <td>NaN</td>\n",
              "      <td>0 days 00:17:07.000000000</td>\n",
              "    </tr>\n",
              "    <tr>\n",
              "      <th>4</th>\n",
              "      <td>0 days 00:17:21.000000000</td>\n",
              "      <td>0 days 00:18:12.000000000</td>\n",
              "      <td>NaN</td>\n",
              "    </tr>\n",
              "    <tr>\n",
              "      <th>5</th>\n",
              "      <td>0 days 00:18:27.500000000</td>\n",
              "      <td>0 days 00:19:25.000000000</td>\n",
              "      <td>NaN</td>\n",
              "    </tr>\n",
              "    <tr>\n",
              "      <th>6</th>\n",
              "      <td>0 days 00:19:28.000000000</td>\n",
              "      <td>NaN</td>\n",
              "      <td>NaN</td>\n",
              "    </tr>\n",
              "    <tr>\n",
              "      <th>7</th>\n",
              "      <td>0 days 00:18:32.000000000</td>\n",
              "      <td>NaN</td>\n",
              "      <td>0 days 00:19:57.000000000</td>\n",
              "    </tr>\n",
              "    <tr>\n",
              "      <th>8</th>\n",
              "      <td>0 days 00:18:17.000000000</td>\n",
              "      <td>NaN</td>\n",
              "      <td>NaN</td>\n",
              "    </tr>\n",
              "    <tr>\n",
              "      <th>9</th>\n",
              "      <td>0 days 00:18:28.000000000</td>\n",
              "      <td>NaN</td>\n",
              "      <td>0 days 00:19:46.000000000</td>\n",
              "    </tr>\n",
              "    <tr>\n",
              "      <th>10</th>\n",
              "      <td>0 days 00:10:17.500000000</td>\n",
              "      <td>0 days 00:10:27.000000000</td>\n",
              "      <td>NaN</td>\n",
              "    </tr>\n",
              "    <tr>\n",
              "      <th>11</th>\n",
              "      <td>0 days 00:19:03.500000000</td>\n",
              "      <td>NaN</td>\n",
              "      <td>NaN</td>\n",
              "    </tr>\n",
              "    <tr>\n",
              "      <th>12</th>\n",
              "      <td>0 days 00:17:46.000000000</td>\n",
              "      <td>NaN</td>\n",
              "      <td>NaN</td>\n",
              "    </tr>\n",
              "    <tr>\n",
              "      <th>13</th>\n",
              "      <td>0 days 00:17:32.000000000</td>\n",
              "      <td>NaN</td>\n",
              "      <td>0 days 00:19:34.000000000</td>\n",
              "    </tr>\n",
              "    <tr>\n",
              "      <th>14</th>\n",
              "      <td>0 days 00:18:47.000000000</td>\n",
              "      <td>0 days 00:19:59.000000000</td>\n",
              "      <td>NaN</td>\n",
              "    </tr>\n",
              "    <tr>\n",
              "      <th>15</th>\n",
              "      <td>0 days 00:19:59.000000000</td>\n",
              "      <td>NaN</td>\n",
              "      <td>NaN</td>\n",
              "    </tr>\n",
              "    <tr>\n",
              "      <th>16</th>\n",
              "      <td>0 days 00:17:02.000000000</td>\n",
              "      <td>NaN</td>\n",
              "      <td>NaN</td>\n",
              "    </tr>\n",
              "    <tr>\n",
              "      <th>17</th>\n",
              "      <td>0 days 00:17:42.000000000</td>\n",
              "      <td>0 days 00:18:48.000000000</td>\n",
              "      <td>NaN</td>\n",
              "    </tr>\n",
              "    <tr>\n",
              "      <th>18</th>\n",
              "      <td>0 days 00:18:29.500000000</td>\n",
              "      <td>NaN</td>\n",
              "      <td>NaN</td>\n",
              "    </tr>\n",
              "    <tr>\n",
              "      <th>19</th>\n",
              "      <td>0 days 00:17:27.500000000</td>\n",
              "      <td>NaN</td>\n",
              "      <td>NaN</td>\n",
              "    </tr>\n",
              "  </tbody>\n",
              "</table>\n",
              "</div>\n",
              "      <button class=\"colab-df-convert\" onclick=\"convertToInteractive('df-364deb40-35fe-484f-9069-b0b8137fb032')\"\n",
              "              title=\"Convert this dataframe to an interactive table.\"\n",
              "              style=\"display:none;\">\n",
              "        \n",
              "  <svg xmlns=\"http://www.w3.org/2000/svg\" height=\"24px\"viewBox=\"0 0 24 24\"\n",
              "       width=\"24px\">\n",
              "    <path d=\"M0 0h24v24H0V0z\" fill=\"none\"/>\n",
              "    <path d=\"M18.56 5.44l.94 2.06.94-2.06 2.06-.94-2.06-.94-.94-2.06-.94 2.06-2.06.94zm-11 1L8.5 8.5l.94-2.06 2.06-.94-2.06-.94L8.5 2.5l-.94 2.06-2.06.94zm10 10l.94 2.06.94-2.06 2.06-.94-2.06-.94-.94-2.06-.94 2.06-2.06.94z\"/><path d=\"M17.41 7.96l-1.37-1.37c-.4-.4-.92-.59-1.43-.59-.52 0-1.04.2-1.43.59L10.3 9.45l-7.72 7.72c-.78.78-.78 2.05 0 2.83L4 21.41c.39.39.9.59 1.41.59.51 0 1.02-.2 1.41-.59l7.78-7.78 2.81-2.81c.8-.78.8-2.07 0-2.86zM5.41 20L4 18.59l7.72-7.72 1.47 1.35L5.41 20z\"/>\n",
              "  </svg>\n",
              "      </button>\n",
              "      \n",
              "  <style>\n",
              "    .colab-df-container {\n",
              "      display:flex;\n",
              "      flex-wrap:wrap;\n",
              "      gap: 12px;\n",
              "    }\n",
              "\n",
              "    .colab-df-convert {\n",
              "      background-color: #E8F0FE;\n",
              "      border: none;\n",
              "      border-radius: 50%;\n",
              "      cursor: pointer;\n",
              "      display: none;\n",
              "      fill: #1967D2;\n",
              "      height: 32px;\n",
              "      padding: 0 0 0 0;\n",
              "      width: 32px;\n",
              "    }\n",
              "\n",
              "    .colab-df-convert:hover {\n",
              "      background-color: #E2EBFA;\n",
              "      box-shadow: 0px 1px 2px rgba(60, 64, 67, 0.3), 0px 1px 3px 1px rgba(60, 64, 67, 0.15);\n",
              "      fill: #174EA6;\n",
              "    }\n",
              "\n",
              "    [theme=dark] .colab-df-convert {\n",
              "      background-color: #3B4455;\n",
              "      fill: #D2E3FC;\n",
              "    }\n",
              "\n",
              "    [theme=dark] .colab-df-convert:hover {\n",
              "      background-color: #434B5C;\n",
              "      box-shadow: 0px 1px 3px 1px rgba(0, 0, 0, 0.15);\n",
              "      filter: drop-shadow(0px 1px 2px rgba(0, 0, 0, 0.3));\n",
              "      fill: #FFFFFF;\n",
              "    }\n",
              "  </style>\n",
              "\n",
              "      <script>\n",
              "        const buttonEl =\n",
              "          document.querySelector('#df-364deb40-35fe-484f-9069-b0b8137fb032 button.colab-df-convert');\n",
              "        buttonEl.style.display =\n",
              "          google.colab.kernel.accessAllowed ? 'block' : 'none';\n",
              "\n",
              "        async function convertToInteractive(key) {\n",
              "          const element = document.querySelector('#df-364deb40-35fe-484f-9069-b0b8137fb032');\n",
              "          const dataTable =\n",
              "            await google.colab.kernel.invokeFunction('convertToInteractive',\n",
              "                                                     [key], {});\n",
              "          if (!dataTable) return;\n",
              "\n",
              "          const docLinkHtml = 'Like what you see? Visit the ' +\n",
              "            '<a target=\"_blank\" href=https://colab.research.google.com/notebooks/data_table.ipynb>data table notebook</a>'\n",
              "            + ' to learn more about interactive tables.';\n",
              "          element.innerHTML = '';\n",
              "          dataTable['output_type'] = 'display_data';\n",
              "          await google.colab.output.renderOutput(dataTable, element);\n",
              "          const docLink = document.createElement('div');\n",
              "          docLink.innerHTML = docLinkHtml;\n",
              "          element.appendChild(docLink);\n",
              "        }\n",
              "      </script>\n",
              "    </div>\n",
              "  </div>\n",
              "  "
            ]
          },
          "metadata": {},
          "execution_count": 252
        }
      ]
    },
    {
      "cell_type": "code",
      "source": [
        "def get_time(df, col):\n",
        "  df[col] = df[col].fillna('0 days 00:00:00.000000000')\n",
        "\n",
        "  # Extract minutes and seconds\n",
        "  minutes = df[col].str.extract(r'(\\d+):(\\d+):(\\d+)')[1].astype(int)\n",
        "  seconds = df[col].str.extract(r'(\\d+):(\\d+):(\\d+)')[2].astype(int)\n",
        "\n",
        "  time = 1200 - minutes*60+seconds\n",
        "  df[f'{col}_seconds'] = time\n",
        "  return df"
      ],
      "metadata": {
        "id": "dYF12VdOt8G8"
      },
      "execution_count": null,
      "outputs": []
    },
    {
      "cell_type": "code",
      "source": [
        "df2 = get_time(df2, 'goal_against_time')\n",
        "df2 = get_time(df2, 'goal_for_time')"
      ],
      "metadata": {
        "id": "G4HvC60SFSn_"
      },
      "execution_count": null,
      "outputs": []
    },
    {
      "cell_type": "code",
      "source": [
        "df2.head()"
      ],
      "metadata": {
        "colab": {
          "base_uri": "https://localhost:8080/",
          "height": 357
        },
        "id": "DzlYF3nsKEub",
        "outputId": "016e6ceb-c066-4c7d-cfd9-f3c46ce54371"
      },
      "execution_count": null,
      "outputs": [
        {
          "output_type": "execute_result",
          "data": {
            "text/plain": [
              "     season game_number team_name        date  pull_period  \\\n",
              "0  20172018           3       CGY  2017-10-04            3   \n",
              "1  20172018           4       S.J  2017-10-04            3   \n",
              "2  20172018           4       S.J  2017-10-04            3   \n",
              "3  20172018           5       NSH  2017-10-05            3   \n",
              "4  20172018           5       NSH  2017-10-05            3   \n",
              "\n",
              "                   pull_time              goal_for_time  \\\n",
              "0  0 days 00:18:17.000000000  0 days 00:00:00.000000000   \n",
              "1  0 days 00:18:25.000000000  0 days 00:00:00.000000000   \n",
              "2  0 days 00:19:24.000000000  0 days 00:00:00.000000000   \n",
              "3  0 days 00:16:55.000000000  0 days 00:00:00.000000000   \n",
              "4  0 days 00:17:21.000000000  0 days 00:18:12.000000000   \n",
              "\n",
              "           goal_against_time              game_end_time  \\\n",
              "0  0 days 00:19:01.000000000                        NaN   \n",
              "1  0 days 00:19:24.000000000                        NaN   \n",
              "2  0 days 00:00:00.000000000  0 days 00:20:00.000000000   \n",
              "3  0 days 00:17:07.000000000                        NaN   \n",
              "4  0 days 00:00:00.000000000                        NaN   \n",
              "\n",
              "          goal_for_timedelta     goal_against_timedelta  \\\n",
              "0                        NaN  0 days 00:00:44.000000000   \n",
              "1                        NaN  0 days 00:00:59.000000000   \n",
              "2                        NaN                        NaN   \n",
              "3                        NaN  0 days 00:00:12.000000000   \n",
              "4  0 days 00:00:51.000000000                        NaN   \n",
              "\n",
              "          game_end_timedelta  goal_against_time_seconds  goal_for_time_seconds  \n",
              "0                        NaN                         61                   1200  \n",
              "1                        NaN                         84                   1200  \n",
              "2  0 days 00:00:36.000000000                       1200                   1200  \n",
              "3                        NaN                        187                   1200  \n",
              "4                        NaN                       1200                    132  "
            ],
            "text/html": [
              "\n",
              "  <div id=\"df-56b07066-71a7-4ae2-8f46-ba69e4fe9ea1\">\n",
              "    <div class=\"colab-df-container\">\n",
              "      <div>\n",
              "<style scoped>\n",
              "    .dataframe tbody tr th:only-of-type {\n",
              "        vertical-align: middle;\n",
              "    }\n",
              "\n",
              "    .dataframe tbody tr th {\n",
              "        vertical-align: top;\n",
              "    }\n",
              "\n",
              "    .dataframe thead th {\n",
              "        text-align: right;\n",
              "    }\n",
              "</style>\n",
              "<table border=\"1\" class=\"dataframe\">\n",
              "  <thead>\n",
              "    <tr style=\"text-align: right;\">\n",
              "      <th></th>\n",
              "      <th>season</th>\n",
              "      <th>game_number</th>\n",
              "      <th>team_name</th>\n",
              "      <th>date</th>\n",
              "      <th>pull_period</th>\n",
              "      <th>pull_time</th>\n",
              "      <th>goal_for_time</th>\n",
              "      <th>goal_against_time</th>\n",
              "      <th>game_end_time</th>\n",
              "      <th>goal_for_timedelta</th>\n",
              "      <th>goal_against_timedelta</th>\n",
              "      <th>game_end_timedelta</th>\n",
              "      <th>goal_against_time_seconds</th>\n",
              "      <th>goal_for_time_seconds</th>\n",
              "    </tr>\n",
              "  </thead>\n",
              "  <tbody>\n",
              "    <tr>\n",
              "      <th>0</th>\n",
              "      <td>20172018</td>\n",
              "      <td>3</td>\n",
              "      <td>CGY</td>\n",
              "      <td>2017-10-04</td>\n",
              "      <td>3</td>\n",
              "      <td>0 days 00:18:17.000000000</td>\n",
              "      <td>0 days 00:00:00.000000000</td>\n",
              "      <td>0 days 00:19:01.000000000</td>\n",
              "      <td>NaN</td>\n",
              "      <td>NaN</td>\n",
              "      <td>0 days 00:00:44.000000000</td>\n",
              "      <td>NaN</td>\n",
              "      <td>61</td>\n",
              "      <td>1200</td>\n",
              "    </tr>\n",
              "    <tr>\n",
              "      <th>1</th>\n",
              "      <td>20172018</td>\n",
              "      <td>4</td>\n",
              "      <td>S.J</td>\n",
              "      <td>2017-10-04</td>\n",
              "      <td>3</td>\n",
              "      <td>0 days 00:18:25.000000000</td>\n",
              "      <td>0 days 00:00:00.000000000</td>\n",
              "      <td>0 days 00:19:24.000000000</td>\n",
              "      <td>NaN</td>\n",
              "      <td>NaN</td>\n",
              "      <td>0 days 00:00:59.000000000</td>\n",
              "      <td>NaN</td>\n",
              "      <td>84</td>\n",
              "      <td>1200</td>\n",
              "    </tr>\n",
              "    <tr>\n",
              "      <th>2</th>\n",
              "      <td>20172018</td>\n",
              "      <td>4</td>\n",
              "      <td>S.J</td>\n",
              "      <td>2017-10-04</td>\n",
              "      <td>3</td>\n",
              "      <td>0 days 00:19:24.000000000</td>\n",
              "      <td>0 days 00:00:00.000000000</td>\n",
              "      <td>0 days 00:00:00.000000000</td>\n",
              "      <td>0 days 00:20:00.000000000</td>\n",
              "      <td>NaN</td>\n",
              "      <td>NaN</td>\n",
              "      <td>0 days 00:00:36.000000000</td>\n",
              "      <td>1200</td>\n",
              "      <td>1200</td>\n",
              "    </tr>\n",
              "    <tr>\n",
              "      <th>3</th>\n",
              "      <td>20172018</td>\n",
              "      <td>5</td>\n",
              "      <td>NSH</td>\n",
              "      <td>2017-10-05</td>\n",
              "      <td>3</td>\n",
              "      <td>0 days 00:16:55.000000000</td>\n",
              "      <td>0 days 00:00:00.000000000</td>\n",
              "      <td>0 days 00:17:07.000000000</td>\n",
              "      <td>NaN</td>\n",
              "      <td>NaN</td>\n",
              "      <td>0 days 00:00:12.000000000</td>\n",
              "      <td>NaN</td>\n",
              "      <td>187</td>\n",
              "      <td>1200</td>\n",
              "    </tr>\n",
              "    <tr>\n",
              "      <th>4</th>\n",
              "      <td>20172018</td>\n",
              "      <td>5</td>\n",
              "      <td>NSH</td>\n",
              "      <td>2017-10-05</td>\n",
              "      <td>3</td>\n",
              "      <td>0 days 00:17:21.000000000</td>\n",
              "      <td>0 days 00:18:12.000000000</td>\n",
              "      <td>0 days 00:00:00.000000000</td>\n",
              "      <td>NaN</td>\n",
              "      <td>0 days 00:00:51.000000000</td>\n",
              "      <td>NaN</td>\n",
              "      <td>NaN</td>\n",
              "      <td>1200</td>\n",
              "      <td>132</td>\n",
              "    </tr>\n",
              "  </tbody>\n",
              "</table>\n",
              "</div>\n",
              "      <button class=\"colab-df-convert\" onclick=\"convertToInteractive('df-56b07066-71a7-4ae2-8f46-ba69e4fe9ea1')\"\n",
              "              title=\"Convert this dataframe to an interactive table.\"\n",
              "              style=\"display:none;\">\n",
              "        \n",
              "  <svg xmlns=\"http://www.w3.org/2000/svg\" height=\"24px\"viewBox=\"0 0 24 24\"\n",
              "       width=\"24px\">\n",
              "    <path d=\"M0 0h24v24H0V0z\" fill=\"none\"/>\n",
              "    <path d=\"M18.56 5.44l.94 2.06.94-2.06 2.06-.94-2.06-.94-.94-2.06-.94 2.06-2.06.94zm-11 1L8.5 8.5l.94-2.06 2.06-.94-2.06-.94L8.5 2.5l-.94 2.06-2.06.94zm10 10l.94 2.06.94-2.06 2.06-.94-2.06-.94-.94-2.06-.94 2.06-2.06.94z\"/><path d=\"M17.41 7.96l-1.37-1.37c-.4-.4-.92-.59-1.43-.59-.52 0-1.04.2-1.43.59L10.3 9.45l-7.72 7.72c-.78.78-.78 2.05 0 2.83L4 21.41c.39.39.9.59 1.41.59.51 0 1.02-.2 1.41-.59l7.78-7.78 2.81-2.81c.8-.78.8-2.07 0-2.86zM5.41 20L4 18.59l7.72-7.72 1.47 1.35L5.41 20z\"/>\n",
              "  </svg>\n",
              "      </button>\n",
              "      \n",
              "  <style>\n",
              "    .colab-df-container {\n",
              "      display:flex;\n",
              "      flex-wrap:wrap;\n",
              "      gap: 12px;\n",
              "    }\n",
              "\n",
              "    .colab-df-convert {\n",
              "      background-color: #E8F0FE;\n",
              "      border: none;\n",
              "      border-radius: 50%;\n",
              "      cursor: pointer;\n",
              "      display: none;\n",
              "      fill: #1967D2;\n",
              "      height: 32px;\n",
              "      padding: 0 0 0 0;\n",
              "      width: 32px;\n",
              "    }\n",
              "\n",
              "    .colab-df-convert:hover {\n",
              "      background-color: #E2EBFA;\n",
              "      box-shadow: 0px 1px 2px rgba(60, 64, 67, 0.3), 0px 1px 3px 1px rgba(60, 64, 67, 0.15);\n",
              "      fill: #174EA6;\n",
              "    }\n",
              "\n",
              "    [theme=dark] .colab-df-convert {\n",
              "      background-color: #3B4455;\n",
              "      fill: #D2E3FC;\n",
              "    }\n",
              "\n",
              "    [theme=dark] .colab-df-convert:hover {\n",
              "      background-color: #434B5C;\n",
              "      box-shadow: 0px 1px 3px 1px rgba(0, 0, 0, 0.15);\n",
              "      filter: drop-shadow(0px 1px 2px rgba(0, 0, 0, 0.3));\n",
              "      fill: #FFFFFF;\n",
              "    }\n",
              "  </style>\n",
              "\n",
              "      <script>\n",
              "        const buttonEl =\n",
              "          document.querySelector('#df-56b07066-71a7-4ae2-8f46-ba69e4fe9ea1 button.colab-df-convert');\n",
              "        buttonEl.style.display =\n",
              "          google.colab.kernel.accessAllowed ? 'block' : 'none';\n",
              "\n",
              "        async function convertToInteractive(key) {\n",
              "          const element = document.querySelector('#df-56b07066-71a7-4ae2-8f46-ba69e4fe9ea1');\n",
              "          const dataTable =\n",
              "            await google.colab.kernel.invokeFunction('convertToInteractive',\n",
              "                                                     [key], {});\n",
              "          if (!dataTable) return;\n",
              "\n",
              "          const docLinkHtml = 'Like what you see? Visit the ' +\n",
              "            '<a target=\"_blank\" href=https://colab.research.google.com/notebooks/data_table.ipynb>data table notebook</a>'\n",
              "            + ' to learn more about interactive tables.';\n",
              "          element.innerHTML = '';\n",
              "          dataTable['output_type'] = 'display_data';\n",
              "          await google.colab.output.renderOutput(dataTable, element);\n",
              "          const docLink = document.createElement('div');\n",
              "          docLink.innerHTML = docLinkHtml;\n",
              "          element.appendChild(docLink);\n",
              "        }\n",
              "      </script>\n",
              "    </div>\n",
              "  </div>\n",
              "  "
            ]
          },
          "metadata": {},
          "execution_count": 255
        }
      ]
    },
    {
      "cell_type": "code",
      "source": [
        "df2[df2['goal_for_time'] != '0 days 00:00:00.000000000']['goal_for_time_seconds'].count()"
      ],
      "metadata": {
        "colab": {
          "base_uri": "https://localhost:8080/"
        },
        "id": "YXUpPEjUF-xJ",
        "outputId": "3ec75f02-60fd-43cc-87da-82b6c45a8a4c"
      },
      "execution_count": null,
      "outputs": [
        {
          "output_type": "execute_result",
          "data": {
            "text/plain": [
              "1611"
            ]
          },
          "metadata": {},
          "execution_count": 256
        }
      ]
    },
    {
      "cell_type": "code",
      "source": [
        "df2[df2['goal_against_time'] != '0 days 00:00:00.000000000']['goal_against_time_seconds'].count()"
      ],
      "metadata": {
        "colab": {
          "base_uri": "https://localhost:8080/"
        },
        "id": "trLQK3Gm1ZOh",
        "outputId": "d9745a1b-1425-4b68-bf9f-db4c320e2be5"
      },
      "execution_count": null,
      "outputs": [
        {
          "output_type": "execute_result",
          "data": {
            "text/plain": [
              "3736"
            ]
          },
          "metadata": {},
          "execution_count": 257
        }
      ]
    },
    {
      "cell_type": "markdown",
      "source": [
        "Here we calculate the mean remaining time for a goalie pull that resulted in a goal scored."
      ],
      "metadata": {
        "id": "CPA7Bo1bKOKB"
      }
    },
    {
      "cell_type": "code",
      "source": [
        "df2[df2['goal_for_time'] != '0 days 00:00:00.000000000']['goal_for_time_seconds'].mean()"
      ],
      "metadata": {
        "colab": {
          "base_uri": "https://localhost:8080/"
        },
        "id": "orVkJwK-KKcj",
        "outputId": "1a43017b-75a4-44ac-dc59-a75397bbda6e"
      },
      "execution_count": null,
      "outputs": [
        {
          "output_type": "execute_result",
          "data": {
            "text/plain": [
              "172.63314711359405"
            ]
          },
          "metadata": {},
          "execution_count": 258
        }
      ]
    },
    {
      "cell_type": "markdown",
      "source": [
        "Here we calculate the mean remaining time for a goalie pull that resulted in a goal conceded."
      ],
      "metadata": {
        "id": "qVvXMutLKYeY"
      }
    },
    {
      "cell_type": "code",
      "source": [
        "df2[df2['goal_against_time'] != '0 days 00:00:00.000000000']['goal_against_time_seconds'].mean()"
      ],
      "metadata": {
        "colab": {
          "base_uri": "https://localhost:8080/"
        },
        "id": "EdDqofCRKKgK",
        "outputId": "4086693f-527d-436f-9e78-16f42e731a7b"
      },
      "execution_count": null,
      "outputs": [
        {
          "output_type": "execute_result",
          "data": {
            "text/plain": [
              "122.7122591006424"
            ]
          },
          "metadata": {},
          "execution_count": 259
        }
      ]
    },
    {
      "cell_type": "markdown",
      "source": [
        "## Finding the Optimal Time Remaining\n",
        "Assuming the model generated in the Coach Markov Pulls Goalie Poisson Article, we find the optimal time remaining for when Team A scores from initially being in the neutral zone.\n",
        "\n",
        "\n",
        "\n",
        "\n",
        "\n",
        "\n",
        "\n"
      ],
      "metadata": {
        "id": "ErvvLSwpLF3Q"
      }
    },
    {
      "cell_type": "code",
      "execution_count": null,
      "metadata": {
        "colab": {
          "base_uri": "https://localhost:8080/"
        },
        "id": "LnqLWyqN4JBO",
        "outputId": "229c9b85-9947-49bb-8d47-98d7f7714375"
      },
      "outputs": [
        {
          "output_type": "stream",
          "name": "stdout",
          "text": [
            "{0: 0.0, 1: 0.0, 2: 0.0, 3: 0.00027825264599999996, 4: 0.0007304688462792, 5: 0.0012952926608483888, 6: 0.0019327630728648154, 7: 0.002616948480613512, 8: 0.0033310194321534135, 9: 0.004064054004993267, 10: 0.004808964367283426, 11: 0.005561151080186207, 12: 0.0063176297157708046, 13: 0.0070764640162523885, 14: 0.007836398004100298, 15: 0.008596617214854276, 16: 0.009356593732910718, 17: 0.01011598561695039, 18: 0.010874571625225907, 19: 0.011632208851095935, 20: 0.012388805227723329, 21: 0.0131443016831293, 22: 0.013898660558502954, 23: 0.014651858091476719, 24: 0.015403879537638046, 25: 0.01615471600430413, 26: 0.016904362395586226, 27: 0.017652816078701044, 28: 0.018400076018384448, 29: 0.01914614221511206, 30: 0.01989101534049601, 31: 0.020634696500652576, 32: 0.021377187082625194, 33: 0.022118488654711995, 34: 0.022858602901778245, 35: 0.02359753158327469, 36: 0.02433527650599242, 37: 0.025071839506381956, 38: 0.02580722243907977, 39: 0.026541427169463488, 40: 0.027274455568821725, 41: 0.028006309511221027, 42: 0.02873699087147404, 43: 0.029466501523822585, 44: 0.030194843341084614, 45: 0.030922018194102275, 46: 0.03164802795138532, 47: 0.03237287447888146, 48: 0.03309655963982888, 49: 0.03381908529466233, 50: 0.034540453300953664, 51: 0.03526066551337516, 52: 0.03597972378367715, 53: 0.03669762996067535, 54: 0.03741438589024416, 55: 0.03812999341531409, 56: 0.038844454375871654, 57: 0.03955777060896106, 58: 0.040269943948686826, 59: 0.040980976226217256, 60: 0.04169086926978828, 61: 0.04239962490470759, 62: 0.04310724495335896, 63: 0.04381373123520677, 64: 0.04451908556680046, 65: 0.045223309761779115, 66: 0.04592640563087609, 67: 0.046628374981923626, 68: 0.04732921961985744, 69: 0.048028941346721386, 70: 0.048727541961672026, 71: 0.04942502326098333, 72: 0.05012138703805119, 73: 0.05081663508339812, 74: 0.051510769184677785, 75: 0.052203791126679645, 76: 0.052895702691333535, 77: 0.053586505657714216, 78: 0.054276201802045974, 79: 0.054964792897707226, 80: 0.05565228071523497, 81: 0.05633866702232945, 82: 0.05702395358385864, 83: 0.057708142161862826, 84: 0.05839123451555904, 85: 0.05907323240134574, 86: 0.05975413757280715, 87: 0.06043395178071795, 88: 0.06111267677304759, 89: 0.061790314294964954, 90: 0.06246686608884272, 91: 0.06314233389426194, 92: 0.06381671944801641, 93: 0.06449002448411725, 94: 0.06516225073379725, 95: 0.06583339992551543, 96: 0.06650347378496137, 97: 0.06717247403505973, 98: 0.06784040239597466, 99: 0.06850726058511425, 100: 0.06917305031713487, 101: 0.06983777330394562, 102: 0.07050143125471277, 103: 0.07116402587586412, 104: 0.07182555887109333, 105: 0.07248603194136446, 106: 0.07314544678491615, 107: 0.07380380509726611, 108: 0.07446110857121546, 109: 0.07511735889685307, 110: 0.07577255776155987, 111: 0.0764267068500133, 112: 0.07707980784419148, 113: 0.07773186242337769, 114: 0.07838287226416459, 115: 0.07903283904045857, 116: 0.07968176442348401, 117: 0.08032965008178769, 118: 0.0809764976812429, 119: 0.08162230888505391, 120: 0.08226708535376011, 121: 0.08291082874524038, 122: 0.08355354071471723, 123: 0.08419522291476121, 124: 0.08483587699529507, 125: 0.08547550460359794, 126: 0.0861141073843097, 127: 0.08675168697943517, 128: 0.08738824502834822, 129: 0.08802378316779615, 130: 0.08865830303190378, 131: 0.08929180625217772, 132: 0.08992429445751052, 133: 0.0905557692741849, 134: 0.09118623232587787, 135: 0.091815685233665, 136: 0.09244412961602445, 137: 0.09307156708884134, 138: 0.09369799926541163, 139: 0.09432342775644649, 140: 0.09494785417007638, 141: 0.09557128011185519, 142: 0.09619370718476423, 143: 0.09681513698921668, 144: 0.09743557112306125, 145: 0.09805501118158676, 146: 0.09867345875752587, 147: 0.09929091544105942, 148: 0.0999073828198203, 149: 0.10052286247889781, 150: 0.10113735600084144, 151: 0.1017508649656652, 152: 0.10236339095085144, 153: 0.10297493553135512, 154: 0.10358550027960772, 155: 0.10419508676552135, 156: 0.10480369655649278, 157: 0.10541133121740745, 158: 0.10601799231064343, 159: 0.10662368139607566, 160: 0.10722840003107961, 161: 0.10783214977053569, 162: 0.10843493216683289, 163: 0.10903674876987297, 164: 0.10963760112707445, 165: 0.11023749078337644, 166: 0.11083641928124274, 167: 0.11143438816066592, 168: 0.11203139895917083, 169: 0.11262745321181919, 170: 0.11322255245121299, 171: 0.1138166982074987, 172: 0.11440989200837118, 173: 0.11500213537907757, 174: 0.11559342984242113, 175: 0.11618377691876547, 176: 0.11677317812603794, 177: 0.1173616349797341, 178: 0.11794914899292112, 179: 0.11853572167624209, 180: 0.11912135453791955, 181: 0.11970604908375963, 182: 0.12028980681715574, 183: 0.12087262923909263, 184: 0.12145451784814999, 185: 0.1220354741405066, 186: 0.12261549960994385, 187: 0.12319459574784991, 188: 0.12377276404322335, 189: 0.12435000598267705, 190: 0.12492632305044188, 191: 0.12550171672837085, 192: 0.12607618849594254, 193: 0.12664973983026515, 194: 0.1272223722060802, 195: 0.1277940870957663, 196: 0.1283648859693431, 197: 0.12893477029447475, 198: 0.12950374153647404, 199: 0.13007180115830597, 200: 0.1306389506205915, 201: 0.13120519138161132, 202: 0.1317705248973097, 203: 0.13233495262129813, 204: 0.13289847600485905, 205: 0.13346109649694968, 206: 0.13402281554420564, 207: 0.13458363459094475, 208: 0.13514355507917064, 209: 0.1357025784485766, 210: 0.13626070613654917, 211: 0.1368179395781719, 212: 0.137374280206229, 213: 0.13792972945120893, 214: 0.1384842887413084, 215: 0.13903795950243567, 216: 0.1395907431582144, 217: 0.14014264112998734, 218: 0.14069365483681984, 219: 0.14124378569550367, 220: 0.14179303512056052, 221: 0.1423414045242457, 222: 0.14288889531655186, 223: 0.14343550890521242, 224: 0.14398124669570533, 225: 0.14452611009125663, 226: 0.1450701004928441, 227: 0.14561321929920087, 228: 0.1461554679068189, 229: 0.1466968477099527, 230: 0.14723736010062283, 231: 0.14777700646861971, 232: 0.14831578820150668, 233: 0.14885370668462417, 234: 0.1493907633010928, 235: 0.14992695943181725, 236: 0.15046229645548956, 237: 0.15099677574859294, 238: 0.15153039868540502, 239: 0.15206316663800165, 240: 0.15259508097626015, 241: 0.15312614306786318, 242: 0.15365635427830188, 243: 0.15418571597087977, 244: 0.15471422950671576, 245: 0.1552418962447483, 246: 0.15576871754173818, 247: 0.1562946947522726, 248: 0.1568198292287682, 249: 0.15734412232147493, 250: 0.15786757537847917, 251: 0.15839018974570762, 252: 0.15891196676693017, 253: 0.15943290778376393, 254: 0.15995301413567625, 255: 0.16047228715998862, 256: 0.1609907281918795, 257: 0.16150833856438843, 258: 0.16202511960841884, 259: 0.1625410726527419, 260: 0.1630561990239998, 261: 0.16357050004670903, 262: 0.16408397704326408, 263: 0.1645966313339405, 264: 0.1651084642368986, 265: 0.16561947706818658, 266: 0.1661296711417441, 267: 0.16663904776940555, 268: 0.16714760826090355, 269: 0.16765535392387218, 270: 0.16816228606385034, 271: 0.16866840598428529, 272: 0.1691737149865357, 273: 0.16967821436987537, 274: 0.1701819054314962, 275: 0.17068478946651186, 276: 0.17118686776796074, 277: 0.17168814162680973, 278: 0.17218861233195706, 279: 0.17268828117023613, 280: 0.17318714942641825, 281: 0.1736852183832165, 282: 0.1741824893212885, 283: 0.17467896351924023, 284: 0.1751746422536289, 285: 0.17566952679896647, 286: 0.17616361842772266, 287: 0.1766569184103287, 288: 0.17714942801518008, 289: 0.1776411485086401, 290: 0.17813208115504311, 291: 0.17862222721669757, 292: 0.17911158795388965, 293: 0.17960016462488604, 294: 0.18008795848593748, 295: 0.1805749707912821, 296: 0.1810612027931481, 297: 0.18154665574175768, 298: 0.18203133088532963, 299: 0.18251522947008297, 300: 0.18299835274023993, 301: 0.18348070193802932, 302: 0.1839622783036894, 303: 0.18444308307547158, 304: 0.184923117489643, 305: 0.18540238278049034, 306: 0.18588088018032237, 307: 0.18635861091947373, 308: 0.18683557622630745, 309: 0.1873117773272187, 310: 0.18778721544663762, 311: 0.18826189180703248, 312: 0.188735807628913, 313: 0.18920896413083327, 314: 0.1896813625293949, 315: 0.19015300403925045, 316: 0.19062388987310624, 317: 0.1910940212417255, 318: 0.19156339935393152, 319: 0.1920320254166109, 320: 0.1924999006347165, 321: 0.19296702621127057, 322: 0.1934334033473678, 323: 0.19389903324217847, 324: 0.19436391709295153, 325: 0.19482805609501777, 326: 0.1952914514417926, 327: 0.19575410432477947, 328: 0.19621601593357266, 329: 0.19667718745586052, 330: 0.1971376200774284, 331: 0.19759731498216188, 332: 0.1980562733520495, 333: 0.19851449636718618, 334: 0.19897198520577586, 335: 0.19942874104413494, 336: 0.19988476505669495, 337: 0.2003400584160058, 338: 0.2007946222927386, 339: 0.20124845785568896, 340: 0.2017015662717796, 341: 0.20215394870606374, 342: 0.2026056063217278, 343: 0.20305654028009476, 344: 0.20350675174062643, 345: 0.20395624186092737, 346: 0.20440501179674717, 347: 0.20485306270198364, 348: 0.20530039572868589, 349: 0.2057470120270572, 350: 0.2061929127454577, 351: 0.20663809903040795, 352: 0.2070825720265913, 353: 0.20752633287685715, 354: 0.20796938272222368, 355: 0.20841172270188113, 356: 0.2088533539531942, 357: 0.20929427761170558, 358: 0.2097344948111383, 359: 0.21017400668339917, 360: 0.21061281435858112, 361: 0.2110509189649667, 362: 0.2114883216290305, 363: 0.21192502347544243, 364: 0.21236102562707024, 365: 0.21279632920498276, 366: 0.21323093532845241, 367: 0.21366484511495853, 368: 0.21409805968018975, 369: 0.21453058013804738, 370: 0.21496240760064775, 371: 0.2153935431783256, 372: 0.21582398797963637, 373: 0.2162537431113596, 374: 0.2166828096785013, 375: 0.2171111887842972, 376: 0.21753888153021528, 377: 0.2179658890159588, 378: 0.21839221233946896, 379: 0.21881785259692788, 380: 0.21924281088276137, 381: 0.21966708828964168, 382: 0.2200906859084902, 383: 0.22051360482848079, 384: 0.2209358461370418, 385: 0.22135741091985964, 386: 0.22177830026088088, 387: 0.22219851524231563, 388: 0.22261805694463982, 389: 0.22303692644659845, 390: 0.22345512482520788, 391: 0.22387265315575913, 392: 0.22428951251182003, 393: 0.22470570396523865, 394: 0.22512122858614547, 395: 0.22553608744295653, 396: 0.22595028160237587, 397: 0.22636381212939866, 398: 0.22677668008731341, 399: 0.22718888653770533, 400: 0.22760043254045842, 401: 0.22801131915375875, 402: 0.22842154743409676, 403: 0.2288311184362704, 404: 0.2292400332133872, 405: 0.2296482928168678, 406: 0.23005589829644785, 407: 0.23046285070018144, 408: 0.23086915107444317, 409: 0.23127480046393126, 410: 0.23167979991167, 411: 0.23208415045901254, 412: 0.23248785314564366, 413: 0.23289090900958223, 414: 0.2332933190871838, 415: 0.23369508441314385, 416: 0.23409620602049974, 417: 0.2344966849406338, 418: 0.23489652220327575, 419: 0.23529571883650557, 420: 0.23569427586675593, 421: 0.23609219431881498, 422: 0.23648947521582878, 423: 0.23688611957930453, 424: 0.23728212842911206, 425: 0.23767750278348773, 426: 0.23807224365903612, 427: 0.23846635207073313, 428: 0.23885982903192846, 429: 0.239252675554348, 430: 0.2396448926480968, 431: 0.24003648132166158, 432: 0.24042744258191293, 433: 0.24081777743410854, 434: 0.24120748688189514, 435: 0.24159657192731177, 436: 0.24198503357079154, 437: 0.24237287281116499, 438: 0.24276009064566206, 439: 0.24314668806991518, 440: 0.2435326660779612, 441: 0.24391802566224471, 442: 0.2443027678136198, 443: 0.24468689352135317, 444: 0.24507040377312653, 445: 0.24545329955503906, 446: 0.24583558185160978, 447: 0.24621725164578073, 448: 0.24659830991891862, 449: 0.2469787576508181, 450: 0.2473585958197038, 451: 0.24773782540223305, 452: 0.2481164473734983, 453: 0.24849446270702982, 454: 0.2488718723747979, 455: 0.2492486773472157, 456: 0.24962487859314145, 457: 0.25000047707988104, 458: 0.25037547377319047, 459: 0.2507498696372785, 460: 0.251123665634809, 461: 0.25149686272690336, 462: 0.2518694618731431, 463: 0.2522414640315722, 464: 0.25261287015869976, 465: 0.25298368120950215, 466: 0.25335389813742587, 467: 0.2537235218943896, 468: 0.254092553430787, 469: 0.2544609936954888, 470: 0.25482884363584557, 471: 0.25519610419768995, 472: 0.2555627763253392, 473: 0.25592886096159745, 474: 0.2562943590477584, 475: 0.25665927152360735, 476: 0.2570235993274242, 477: 0.2573873433959852, 478: 0.2577505046645658, 479: 0.258113084066943, 480: 0.2584750825353976, 481: 0.25883650100071653, 482: 0.2591973403921958, 483: 0.2595576016376419, 484: 0.25991728566337535, 485: 0.2602763933942321, 486: 0.2606349257535663, 487: 0.26099288366325313, 488: 0.2613502680436901, 489: 0.2617070798138006, 490: 0.2620633198910352, 491: 0.2624189891913748, 492: 0.2627740886293326, 493: 0.26312861911795676, 494: 0.2634825815688322, 495: 0.26383597689208343, 496: 0.2641888059963767, 497: 0.26454106978892244, 498: 0.26489276917547744, 499: 0.26524390506034745, 500: 0.26559447834638894, 501: 0.2659444899350123, 502: 0.26629394072618306, 503: 0.2666428316184255, 504: 0.2669911635088236, 505: 0.2673389372930245, 506: 0.2676861538652399, 507: 0.26803281411824936, 508: 0.26837891894340127, 509: 0.26872446923061644, 510: 0.2690694658683895, 511: 0.2694139097437917, 512: 0.269757801742473, 513: 0.27010114274866426, 514: 0.2704439336451796, 515: 0.2707861753134187, 516: 0.2711278686333691, 517: 0.2714690144836082, 518: 0.27180961374130613, 519: 0.2721496672822272, 520: 0.2724891759807326, 521: 0.27282814070978284, 522: 0.2731665623409394, 523: 0.2735044417443676, 524: 0.2738417797888386, 525: 0.2741785773417313, 526: 0.2745148352690351, 527: 0.27485055443535183, 528: 0.2751857357038978, 529: 0.27552037993650685, 530: 0.2758544879936313, 531: 0.2761880607343453, 532: 0.2765210990163463, 533: 0.27685360369595763, 534: 0.2771855756281305, 535: 0.27751701566644665, 536: 0.2778479246631195, 537: 0.27817830346899786, 538: 0.2785081529335667, 539: 0.27883747390495, 540: 0.27916626722991317, 541: 0.27949453375386457, 542: 0.27982227432085816, 543: 0.28014948977359555, 544: 0.2804761809534281, 545: 0.28080234870035925, 546: 0.28112799385304643, 547: 0.2814531172488034, 548: 0.2817777197236024, 549: 0.2821018021120761, 550: 0.28242536524752004, 551: 0.2827484099618949, 552: 0.28307093708582753, 553: 0.283392947448615, 554: 0.2837144418782248, 555: 0.28403542120129827, 556: 0.28435588624315217, 557: 0.28467583782778105, 558: 0.2849952767778589, 559: 0.285314203914742, 560: 0.28563262005847023, 561: 0.28595052602777, 562: 0.28626792264005557, 563: 0.28658481071143194, 564: 0.28690119105669587, 565: 0.2872170644893394, 566: 0.2875324318215505, 567: 0.28784729386421637, 568: 0.2881616514269246, 569: 0.28847550531796584, 570: 0.2887888563443356, 571: 0.2891017053117364, 572: 0.28941405302457984, 573: 0.28972590028598894, 574: 0.29003724789779933, 575: 0.29034809666056255, 576: 0.290658447373547, 577: 0.2909683008347409, 578: 0.2912776578408536, 579: 0.2915865191873179, 580: 0.29189488566829247, 581: 0.29220275807666324, 582: 0.2925101372040459, 583: 0.29281702384078784, 584: 0.2931234187759699, 585: 0.29342932279740913, 586: 0.2937347366916595, 587: 0.2940396612440157, 588: 0.2943440972385134, 589: 0.29464804545793266, 590: 0.29495150668379894, 591: 0.29525448169638574, 592: 0.29555697127471625, 593: 0.2958589761965656, 594: 0.29616049723846266, 595: 0.2964615351756923, 596: 0.29676209078229693, 597: 0.2970621648310791, 598: 0.2973617580936027, 599: 0.29766087134019603, 600: 0.2979595053399525, 601: 0.29825766086073374, 602: 0.2985553386691707, 603: 0.2988525395306665, 604: 0.2991492642093975, 605: 0.2994455134683159, 606: 0.29974128806915107, 607: 0.3000365887724127, 608: 0.3003314163373912, 609: 0.30062577152216086, 610: 0.3009196550835812, 611: 0.30121306777729917, 612: 0.3015060103577509, 613: 0.3017984835781638, 614: 0.30209048819055845, 615: 0.3023820249457506, 616: 0.30267309459335284, 617: 0.3029636978817768, 618: 0.303253835558235, 619: 0.3035435083687428, 620: 0.30383271705812015, 621: 0.30412146236999377, 622: 0.3044097450467989, 623: 0.3046975658297812, 624: 0.3049849254589984, 625: 0.3052718246733232, 626: 0.30555826421044363, 627: 0.3058442448068665, 628: 0.3061297671979181, 629: 0.3064148321177466, 630: 0.3066994402993242, 631: 0.30698359247444845, 632: 0.3072672893737444, 633: 0.3075505317266667, 634: 0.30783332026150084, 635: 0.30811565570536587, 636: 0.3083975387842156, 637: 0.3086789702228408, 638: 0.3089599507448707, 639: 0.3092404810727756, 640: 0.3095205619278677, 641: 0.30980019403030395, 642: 0.3100793780990871, 643: 0.31035811485206816, 644: 0.3106364050059477, 645: 0.3109142492762783, 646: 0.31119164837746577, 647: 0.3114686030227717, 648: 0.31174511392431414, 649: 0.3120211817930709, 650: 0.3122968073388804, 651: 0.3125719912704435, 652: 0.31284673429532583, 653: 0.31312103711995937, 654: 0.3133949004496439, 655: 0.3136683249885497, 656: 0.3139413114397182, 657: 0.3142138605050649, 658: 0.31448597288538027, 659: 0.3147576492803325, 660: 0.31502889038846793, 661: 0.31529969690721454, 662: 0.31557006953288225, 663: 0.3158400089606658, 664: 0.31610951588464553, 665: 0.3163785909977902, 666: 0.31664723499195807, 667: 0.3169154485578988, 668: 0.3171832323852557, 669: 0.31745058716256663, 670: 0.3177175135772664, 671: 0.3179840123156887, 672: 0.318250084063067, 673: 0.31851572950353746, 674: 0.31878094932013973, 675: 0.3190457441948192, 676: 0.3193101148084286, 677: 0.31957406184072973, 678: 0.31983758597039524, 679: 0.32010068787501084, 680: 0.3203633682310757, 681: 0.32062562771400605, 682: 0.3208874669981353, 683: 0.32114888675671666, 684: 0.32140988766192463, 685: 0.32167047038485674, 686: 0.3219306355955351, 687: 0.3221903839629087, 688: 0.32244971615485424, 689: 0.3227086328381788, 690: 0.3229671346786204, 691: 0.3232252223408514, 692: 0.3234828964884782, 693: 0.3237401577840447, 694: 0.32399700688903266, 695: 0.3242534444638646, 696: 0.3245094711679042, 697: 0.3247650876594595, 698: 0.3250202945957831, 699: 0.3252750926330748, 700: 0.325529482426483, 701: 0.32578346463010666, 702: 0.32603703989699606, 703: 0.3262902088791559, 704: 0.32654297222754575, 705: 0.32679533059208243, 706: 0.3270472846216412, 707: 0.32729883496405787, 708: 0.3275499822661303, 709: 0.32780072717362, 710: 0.32805107033125364, 711: 0.32830101238272513, 712: 0.3285505539706969, 713: 0.32879969573680184, 714: 0.32904843832164443, 715: 0.3292967823648033, 716: 0.329544728504832, 717: 0.32979227737926087, 718: 0.3300394296245992, 719: 0.3302861858763359, 720: 0.3305325467689422, 721: 0.3307785129358724, 722: 0.33102408500956604, 723: 0.3312692636214493, 724: 0.33151404940193674, 725: 0.3317584429804327, 726: 0.3320024449853332, 727: 0.3322460560440275, 728: 0.33248927678289936, 729: 0.33273210782732926, 730: 0.3329745498016954, 731: 0.33321660332937575, 732: 0.3334582690327495, 733: 0.3336995475331986, 734: 0.3339404394511092, 735: 0.33418094540587406, 736: 0.33442106601589283, 737: 0.33466080189857467, 738: 0.3349001536703395, 739: 0.3351391219466198, 740: 0.3353777073418614, 741: 0.3356159104695264, 742: 0.33585373194209306, 743: 0.3360911723710596, 744: 0.3363282323669432, 745: 0.33656491253928367, 746: 0.3368012134966437, 747: 0.3370371358466114, 748: 0.3372726801958009, 749: 0.33750784714985493, 750: 0.33774263731344534, 751: 0.3379770512902756, 752: 0.3382110896830813, 753: 0.33844475309363314, 754: 0.33867804212273683, 755: 0.3389109573702362, 756: 0.33914349943501326, 757: 0.33937566891499116, 758: 0.3396074664071344, 759: 0.33983889250745164, 760: 0.34006994781099603, 761: 0.3403006329118678, 762: 0.3405309484032148, 763: 0.3407608948772351, 764: 0.3409904729251774, 765: 0.3412196831373436, 766: 0.341448526103089, 767: 0.34167700241082566, 768: 0.3419051126480221, 769: 0.34213285740120597, 770: 0.3423602372559648, 771: 0.34258725279694835, 772: 0.3428139046078692, 773: 0.34304019327150503, 774: 0.34326611936969964, 775: 0.34349168348336456, 776: 0.3437168861924805, 777: 0.3439417280760991, 778: 0.34416620971234413, 779: 0.34439033167841304, 780: 0.3446140945505785, 781: 0.34483749890418997, 782: 0.3450605453136748, 783: 0.34528323435254044, 784: 0.3455055665933749, 785: 0.34572754260784916, 786: 0.34594916296671807, 787: 0.34617042823982225, 788: 0.34639133899608887, 789: 0.3466118958035341, 790: 0.34683209922926334, 791: 0.3470519498394742, 792: 0.3472714481994562, 793: 0.34749059487359396, 794: 0.34770939042536725, 795: 0.3479278354173534, 796: 0.34814593041122804, 797: 0.34836367596776724, 798: 0.34858107264684807, 799: 0.3487981210074511, 800: 0.34901482160766095}\n"
          ]
        }
      ],
      "source": [
        "even_strength = np.array([[1, 0, 0, 0, 0, 0, 0],\n",
        "              [0.0982, 0, 0.9018, 0, 0, 0, 0],\n",
        "              [0, 0.02163, 0.8872, 0.0911, 0, 0, 0],\n",
        "              [0, 0, 0.131, 0.738, 0.131, 0, 0],\n",
        "              [0, 0, 0, 0.0911, 0.8872, 0.02163, 0],\n",
        "              [0, 0, 0, 0, 0.9018, 0, 0.0982],\n",
        "              [0, 0, 0, 0, 0, 0, 1]])\n",
        "\n",
        "val_counts_even_strength = {}\n",
        "for i in range(0, 801):\n",
        "  val = np.linalg.matrix_power(even_strength, i)[3][0]\n",
        "  val_counts_even_strength.update({i: val})\n",
        "print(val_counts_even_strength)"
      ]
    },
    {
      "cell_type": "code",
      "source": [
        "empty_net = np.array([[1, 0, 0, 0, 0, 0, 0],\n",
        "              [1, 0, 0, 0, 0, 0, 0],\n",
        "              [0, 0.02163, 0.8872, 0.091, 0, 0, 0],\n",
        "              [0, 0, 0.1768, 0.646, 0.1768, 0, 0],\n",
        "              [0, 0, 0, 0.091, 0.742, 0.0578, 0],\n",
        "              [0, 0, 0, 0, 0.9018, 0, 0.0982],\n",
        "              [0, 0, 0, 0, 0, 0, 1]])\n",
        "\n",
        "val_counts_empty_net = {}\n",
        "for i in range(0, 801):\n",
        "  val = np.linalg.matrix_power(empty_net, i)[3][0]\n",
        "  val_counts_empty_net.update({i: val})\n",
        "print(val_counts_empty_net)"
      ],
      "metadata": {
        "colab": {
          "base_uri": "https://localhost:8080/"
        },
        "id": "PeNfeMEDPD64",
        "outputId": "ea700bae-42ca-4034-d447-d52ff3016e49"
      },
      "execution_count": null,
      "outputs": [
        {
          "output_type": "stream",
          "name": "stdout",
          "text": [
            "{0: 0.0, 1: 0.0, 2: 0.0, 3: 0.0038241840000000004, 4: 0.009687422908800002, 5: 0.016608234701909762, 6: 0.024038549495350725, 7: 0.03166975124774642, 8: 0.03932603572923997, 9: 0.04690596017223959, 10: 0.054350257712819205, 11: 0.06162401136302004, 12: 0.0687066949540001, 13: 0.0755865390230409, 14: 0.08225728670179312, 15: 0.08871628052826928, 16: 0.09496329878605164, 17: 0.10099982077715855, 18: 0.10682854306438955, 19: 0.11245304691835366, 20: 0.1178775602430292, 21: 0.12310678107724682, 22: 0.1281457430694532, 23: 0.13299971084073126, 24: 0.13767409747579445, 25: 0.1421743989303866, 26: 0.14650614169363138, 27: 0.15067484102373865, 28: 0.1546859677226263, 29: 0.1585449218623848, 30: 0.16225701219952823, 31: 0.1658274402552377, 32: 0.1692612882272028, 33: 0.17256351004705797, 34: 0.17573892501695745, 35: 0.17879221355627575, 36: 0.1817279146695177, 37: 0.18455042481270267, 38: 0.18726399789037598, 39: 0.1898727461610196, 40: 0.19238064186660805, 41: 0.19479151943368567, 42: 0.19710907811970754, 43: 0.1993368850003558, 44: 0.20147837821186165, 45: 0.20353687037761972, 46: 0.2055155521610987, 47: 0.20741749589763075, 48: 0.20924565926647604, 49: 0.21100288897187544, 50: 0.2126919244078957, 51: 0.2143154012869163, 52: 0.21587585521579872, 53: 0.21737572520724166, 54: 0.2188173571166953, 55: 0.22020300699756784, 56: 0.2215348443694077, 57: 0.2228149553953402, 58: 0.22404534596634676, 59: 0.22522794469104138, 60: 0.22636460579046433, 61: 0.22745711189811163, 62: 0.22850717676598142, 63: 0.22951644787785871, 64: 0.23048650897141748, 65: 0.2314188824709813, 66: 0.2323150318329994, 67: 0.23317636380643966, 68: 0.23400423061041506, 69: 0.23479993203142796, 70: 0.23556471744266338, 71: 0.23629978774777882, 72: 0.23700629725164124, 73: 0.23768535546044184, 74: 0.23833802881359592, 75: 0.2389653423497933, 76: 0.239568281309522, 77: 0.24014779267633418, 78: 0.2407047866590707, 79: 0.24124013811719672, 80: 0.24175468793134736, 81: 0.2422492443211106, 82: 0.242724584112021, 83: 0.24318145395366628, 84: 0.24362057149075264, 85: 0.24404262648890704, 86: 0.24444828191693777, 87: 0.24483817498720925, 88: 0.2452129181557346, 89: 0.24557310008352393, 90: 0.24591928656067846, 91: 0.24625202139465827, 92: 0.2465718272641055, 93: 0.2468792065395468, 94: 0.24717464207225615, 95: 0.24745859795250322, 96: 0.24773152023837489, 97: 0.24799383765630273, 98: 0.24824596227439605, 99: 0.24848829014962967, 100: 0.2487212019499016, 101: 0.24894506355193233, 102: 0.24916022661594425, 103: 0.2493670291380194, 104: 0.24956579598100387, 105: 0.24975683938478807, 106: 0.24994045945676635, 107: 0.25011694464324213, 108: 0.2502865721825212, 109: 0.25044960854040116, 110: 0.25060630982874327, 111: 0.25075692220778045, 112: 0.25090168227279747, 113: 0.2510408174257843, 114: 0.25117454623265234, 115: 0.25130307876657015, 116: 0.2514266169379594, 117: 0.25154535481166906, 118: 0.25165947891182605, 119: 0.2517691685148405, 120: 0.2518745959310267, 121: 0.2519759267752814, 122: 0.25207332022724455, 123: 0.2521669292813512, 124: 0.2522569009871683, 125: 0.2523433766803913, 126: 0.2524264922048674, 127: 0.25250637812598886, 128: 0.25258315993579816, 129: 0.25265695825012036, 130: 0.25272788899803733, 131: 0.25279606360399953, 132: 0.2528615891628608, 133: 0.25292456860811263, 134: 0.2529851008735816, 135: 0.25304328104884266, 136: 0.25309920052859486, 137: 0.2531529471562322, 138: 0.25320460536183564, 139: 0.2532542562948038, 140: 0.2533019779513295, 141: 0.25334784529692317, 142: 0.25339193038417585, 143: 0.25343430246594495, 144: 0.253475028104144, 145: 0.2535141712743034, 146: 0.25355179346606926, 147: 0.2535879537797967, 148: 0.25362270901939027, 149: 0.2536561137815363, 150: 0.253688220541469, 151: 0.2537190797354023, 152: 0.25374873983976076, 153: 0.2537772474473297, 154: 0.2538046473404484, 155: 0.253830982561357, 156: 0.2538562944798124, 157: 0.25388062285807483, 158: 0.2539040059133706, 159: 0.2539264803779261, 160: 0.253948081556672, 161: 0.2539688433827013, 162: 0.2539887984705761, 163: 0.25400797816756077, 164: 0.2540264126028651, 165: 0.2540441307349746, 166: 0.2540611603971402, 167: 0.25407752834110187, 168: 0.2540932602791126, 169: 0.2541083809243294, 170: 0.2541229140296352, 171: 0.2541368824249516, 172: 0.25415030805310274, 173: 0.2541632120042845, 174: 0.2541756145491955, 175: 0.25418753517087966, 176: 0.25419899259533224, 177: 0.2542100048209161, 178: 0.25422058914663537, 179: 0.2542307621993101, 180: 0.25424053995969564, 181: 0.25424993778758576, 182: 0.25425897044594215, 183: 0.25426765212408503, 184: 0.2542759964599828, 185: 0.2542840165616761, 186: 0.25429172502786923, 187: 0.2542991339677208, 188: 0.25430625501986676, 189: 0.2543130993707022, 190: 0.2543196777719553, 191: 0.25432600055757604, 192: 0.2543320776599704, 193: 0.25433791862560284, 194: 0.2543435326299926, 195: 0.25434892849212754, 196: 0.2543541146883182, 197: 0.25435909936551243, 198: 0.2543638903540939, 199: 0.25436849518018256, 200: 0.2543729210774577, 201: 0.2543771749985204, 202: 0.2543812636258165, 203: 0.25438519338213295, 204: 0.25438897044068787, 205: 0.25439260073482783, 206: 0.25439608996734886, 207: 0.25439944361945394, 208: 0.2544026669593647, 209: 0.25440576505059603, 210: 0.254408742759911, 211: 0.254411604764966, 212: 0.2544143555616585, 213: 0.25441699947118956, 214: 0.2544195406468526, 215: 0.2544219830805571, 216: 0.2544243306090998, 217: 0.2544265869201915, 218: 0.25442875555825095, 219: 0.2544308399299714, 220: 0.2544328433096737, 221: 0.2544347688444482, 222: 0.25443661955910024, 223: 0.2544383983609, 224: 0.25444010804415135, 225: 0.25444175129457974, 226: 0.2544433306935523, 227: 0.25444484872213224, 228: 0.25444630776497695, 229: 0.2544477101140833, 230: 0.2544490579723887, 231: 0.2544503534572312, 232: 0.25445159860367633, 233: 0.254452795367713, 234: 0.25445394562932705, 235: 0.25445505119545375, 236: 0.2544561138028169, 237: 0.2544571351206565, 238: 0.2544581167533515, 239: 0.25445906024293946, 240: 0.2544599670715398, 241: 0.2544608386636812, 242: 0.25446167638853956, 243: 0.25446248156208945, 244: 0.25446325544917037, 245: 0.2544639992654745, 246: 0.25446471417945626, 247: 0.25446540131416706, 248: 0.25446606174902087, 249: 0.2544666965214885, 250: 0.25446730662872835, 251: 0.25446789302915224, 252: 0.2544684566439312, 253: 0.2544689983584425, 254: 0.2544695190236607, 255: 0.25447001945749353, 256: 0.2544705004460684, 257: 0.2544709627449656, 258: 0.2544714070804062, 259: 0.2544718341503928, 260: 0.25447224462580575, 261: 0.2544726391514569, 262: 0.2544730183471032, 263: 0.2544733828084194, 264: 0.25447373310793464, 265: 0.25447406979593107, 266: 0.25447439340130884, 267: 0.2544747044324166, 268: 0.25447500337785045, 269: 0.2544752907072207, 270: 0.2544755668718908, 271: 0.254475832305685, 272: 0.254476087425571, 273: 0.25447633263231406, 274: 0.2544765683111075, 275: 0.2544767948321768, 276: 0.25447701255136185, 277: 0.2544772218106756, 278: 0.2544774229388419, 279: 0.25447761625181087, 280: 0.2544778020532561, 281: 0.2544779806350515, 282: 0.2544781522777296, 283: 0.25447831725092207, 284: 0.25447847581378397, 285: 0.2544786282154001, 286: 0.25447877469517716, 287: 0.25447891548321827, 288: 0.2544790508006866, 289: 0.25447918086015087, 290: 0.2544793058659203, 291: 0.2544794260143654, 292: 0.25447954149422614, 293: 0.25447965248690885, 294: 0.25447975916677107, 295: 0.25447986170139486, 296: 0.2544799602518512, 297: 0.2544800549729519, 298: 0.2544801460134937, 299: 0.25448023351649124, 300: 0.25448031761940215, 301: 0.25448039845434284, 302: 0.25448047614829644, 303: 0.25448055082331134, 304: 0.25448062259669413, 305: 0.2544806915811928, 306: 0.25448075788517444, 307: 0.25448082161279545, 308: 0.2544808828641649, 309: 0.25448094173550206, 310: 0.2544809983192874, 311: 0.25448105270440774, 312: 0.2544811049762963, 313: 0.2544811552170665, 314: 0.254481203505641, 315: 0.25448124991787585, 316: 0.2544812945266799, 317: 0.2544813374021283, 318: 0.25448137861157416, 319: 0.2544814182197525, 320: 0.2544814562888839, 321: 0.2544814928787704, 322: 0.2544815280468912, 323: 0.2544815618484911, 324: 0.25448159433666906, 325: 0.2544816255624603, 326: 0.25448165557491725, 327: 0.25448168442118596, 328: 0.25448171214658094, 329: 0.2544817387946558, 330: 0.25448176440727177, 331: 0.25448178902466334, 332: 0.25448181268550185, 333: 0.2544818354269557, 334: 0.25448185728474954, 335: 0.25448187829321933, 336: 0.25448189848536734, 337: 0.2544819178929128, 338: 0.2544819365463434, 339: 0.25448195447496114, 340: 0.2544819717069303, 341: 0.2544819882693201, 342: 0.25448200418814854, 343: 0.2544820194884221, 344: 0.25448203419417603, 345: 0.25448204832851135, 346: 0.2544820619136317, 347: 0.2544820749708776, 348: 0.2544820875207609, 349: 0.2544820995829956, 350: 0.2544821111765307, 351: 0.2544821223195778, 352: 0.25448213302964207, 353: 0.25448214332354724, 354: 0.25448215321746437, 355: 0.2544821627269354, 356: 0.25448217186689875, 357: 0.25448218065171246, 358: 0.2544821890951765, 359: 0.2544821972105544, 360: 0.2544822050105946, 361: 0.25448221250755027, 362: 0.25448221971319823, 363: 0.2544822266388577, 364: 0.2544822332954084, 365: 0.25448223969330663, 366: 0.2544822458426031, 367: 0.2544822517529574, 368: 0.2544822574336544, 369: 0.2544822628936177, 370: 0.2544822681414241, 371: 0.25448227318531774, 372: 0.25448227803322165, 373: 0.25448228269275164, 374: 0.2544822871712272, 375: 0.2544822914756835, 376: 0.2544822956128824, 377: 0.2544822995893229, 378: 0.25448230341125166, 379: 0.25448230708467245, 380: 0.2544823106153559, 381: 0.25448231400884835, 382: 0.25448231727048065, 383: 0.25448232040537605, 384: 0.25448232341845967, 385: 0.2544823263144644, 386: 0.2544823290979396, 387: 0.254482331773258, 388: 0.25448233434462203, 389: 0.2544823368160711, 390: 0.2544823391914875, 391: 0.25448234147460286, 392: 0.25448234366900363, 393: 0.25448234577813705, 394: 0.25448234780531626, 395: 0.25448234975372575, 396: 0.25448235162642635, 397: 0.25448235342635955, 398: 0.2544823551563535, 399: 0.25448235681912507, 400: 0.25448235841728684, 401: 0.2544823599533491, 402: 0.25448236142972486, 403: 0.25448236284873343, 404: 0.25448236421260395, 405: 0.25448236552347864, 406: 0.25448236678341707, 407: 0.25448236799439833, 408: 0.2544823691583247, 409: 0.25448237027702447, 410: 0.2544823713522553, 411: 0.25448237238570615, 412: 0.2544823733790003, 413: 0.2544823743336982, 414: 0.25448237525129974, 415: 0.2544823761332459, 416: 0.2544823769809228, 417: 0.2544823777956615, 418: 0.2544823785787422, 419: 0.2544823793313948, 420: 0.2544823800548016, 421: 0.2544823807500993, 422: 0.25448238141838003, 423: 0.2544823820606933, 424: 0.25448238267804846, 425: 0.2544823832714149, 426: 0.2544823838417254, 427: 0.25448238438987525, 428: 0.2544823849167259, 429: 0.25448238542310464, 430: 0.25448238590980726, 431: 0.25448238637759807, 432: 0.2544823868272122, 433: 0.2544823872593556, 434: 0.2544823876747074, 435: 0.2544823880739197, 436: 0.2544823884576203, 437: 0.2544823888264112, 438: 0.2544823891808721, 439: 0.2544823895215599, 440: 0.25448238984900967, 441: 0.25448239016373564, 442: 0.2544823904662325, 443: 0.2544823907569751, 444: 0.2544823910364207, 445: 0.25448239130500766, 446: 0.2544823915631584, 447: 0.254482391811278, 448: 0.2544823920497566, 449: 0.2544823922789687, 450: 0.2544823924992743, 451: 0.25448239271101947, 452: 0.254482392914537, 453: 0.2544823931101465, 454: 0.2544823932981552, 455: 0.2544823934788584, 456: 0.2544823936525403, 457: 0.25448239381947324, 458: 0.2544823939799198, 459: 0.25448239413413193, 460: 0.2544823942823519, 461: 0.25448239442481235, 462: 0.25448239456173744, 463: 0.2544823946933419, 464: 0.25448239481983276, 465: 0.25448239494140845, 466: 0.25448239505826015, 467: 0.2544823951705714, 468: 0.2544823952785186, 469: 0.2544823953822713, 470: 0.25448239548199253, 471: 0.25448239557783886, 472: 0.254482395669961, 473: 0.2544823957585034, 474: 0.2544823958436055, 475: 0.2544823959254006, 476: 0.2544823960040176, 477: 0.25448239607957973, 478: 0.2544823961522058, 479: 0.2544823962220097, 480: 0.25448239628910146, 481: 0.25448239635358616, 482: 0.25448239641556525, 483: 0.2544823964751358, 484: 0.25448239653239185, 485: 0.2544823965874231, 486: 0.25448239664031597, 487: 0.2544823966911535, 488: 0.2544823967400157, 489: 0.2544823967869792, 490: 0.25448239683211804, 491: 0.25448239687550284, 492: 0.254482396917202, 493: 0.25448239695728064, 494: 0.2544823969958021, 495: 0.2544823970328265, 496: 0.2544823970684124, 497: 0.25448239710261567, 498: 0.2544823971354897, 499: 0.25448239716708654, 500: 0.2544823971974555, 501: 0.25448239722664434, 502: 0.2544823972546993, 503: 0.2544823972816638, 504: 0.2544823973075807, 505: 0.25448239733249045, 506: 0.2544823973564324, 507: 0.25448239737944406, 508: 0.2544823974015614, 509: 0.25448239742281953, 510: 0.25448239744325174, 511: 0.25448239746288964, 512: 0.2544823974817647, 513: 0.2544823974999063, 514: 0.25448239751734303, 515: 0.2544823975341022, 516: 0.25448239755021007, 517: 0.25448239756569213, 518: 0.2544823975805726, 519: 0.25448239759487484, 520: 0.25448239760862135, 521: 0.2544823976218337, 522: 0.25448239763453273, 523: 0.2544823976467382, 524: 0.25448239765846953, 525: 0.25448239766974484, 526: 0.25448239768058223, 527: 0.25448239769099834, 528: 0.2544823977010099, 529: 0.2544823977106323, 530: 0.25448239771988085, 531: 0.25448239772877, 532: 0.2544823977373138, 533: 0.25448239774552556, 534: 0.2544823977534183, 535: 0.2544823977610043, 536: 0.25448239776829557, 537: 0.25448239777530346, 538: 0.2544823977820391, 539: 0.25448239778851295, 540: 0.25448239779473536, 541: 0.25448239780071585, 542: 0.25448239780646414, 543: 0.25448239781198884, 544: 0.2544823978172991, 545: 0.2544823978224029, 546: 0.25448239782730836, 547: 0.25448239783202325, 548: 0.25448239783655496, 549: 0.25448239784091053, 550: 0.25448239784509696, 551: 0.2544823978491205, 552: 0.2544823978529879, 553: 0.2544823978567049, 554: 0.2544823978602776, 555: 0.25448239786371135, 556: 0.25448239786701177, 557: 0.25448239787018384, 558: 0.2544823978732328, 559: 0.2544823978761632, 560: 0.25448239787897975, 561: 0.25448239788168686, 562: 0.2544823978842888, 563: 0.25448239788678956, 564: 0.2544823978891932, 565: 0.2544823978915034, 566: 0.2544823978937239, 567: 0.2544823978958581, 568: 0.25448239789790933, 569: 0.2544823978998809, 570: 0.25448239790177585, 571: 0.2544823979035971, 572: 0.25448239790534777, 573: 0.25448239790703014, 574: 0.2544823979086474, 575: 0.25448239791020166, 576: 0.2544823979116956, 577: 0.25448239791313143, 578: 0.25448239791451155, 579: 0.254482397915838, 580: 0.2544823979171129, 581: 0.25448239791833827, 582: 0.25448239791951605, 583: 0.25448239792064803, 584: 0.254482397921736, 585: 0.2544823979227817, 586: 0.25448239792378685, 587: 0.2544823979247528, 588: 0.2544823979256814, 589: 0.25448239792657373, 590: 0.2544823979274316, 591: 0.25448239792825594, 592: 0.2544823979290484, 593: 0.2544823979298099, 594: 0.25448239793054195, 595: 0.2544823979312455, 596: 0.25448239793192173, 597: 0.2544823979325716, 598: 0.2544823979331964, 599: 0.2544823979337968, 600: 0.2544823979343739, 601: 0.25448239793492844, 602: 0.2544823979354617, 603: 0.25448239793597394, 604: 0.2544823979364665, 605: 0.25448239793693983, 606: 0.25448239793739486, 607: 0.254482397937832, 608: 0.2544823979382524, 609: 0.2544823979386564, 610: 0.25448239793904465, 611: 0.25448239793941774, 612: 0.25448239793977645, 613: 0.2544823979401211, 614: 0.25448239794045263, 615: 0.25448239794077093, 616: 0.2544823979410771, 617: 0.25448239794137123, 618: 0.25448239794165395, 619: 0.25448239794192573, 620: 0.2544823979421871, 621: 0.2544823979424381, 622: 0.2544823979426795, 623: 0.2544823979429113, 624: 0.2544823979431342, 625: 0.2544823979433486, 626: 0.2544823979435545, 627: 0.2544823979437524, 628: 0.25448239794394256, 629: 0.25448239794412547, 630: 0.2544823979443013, 631: 0.25448239794447014, 632: 0.25448239794463245, 633: 0.25448239794478855, 634: 0.2544823979449385, 635: 0.2544823979450826, 636: 0.25448239794522126, 637: 0.25448239794535427, 638: 0.2544823979454825, 639: 0.2544823979456054, 640: 0.2544823979457236, 641: 0.25448239794583727, 642: 0.25448239794594646, 643: 0.25448239794605154, 644: 0.2544823979461524, 645: 0.2544823979462494, 646: 0.25448239794634264, 647: 0.2544823979464322, 648: 0.2544823979465183, 649: 0.25448239794660105, 650: 0.2544823979466806, 651: 0.25448239794675714, 652: 0.2544823979468306, 653: 0.25448239794690114, 654: 0.25448239794696914, 655: 0.25448239794703437, 656: 0.25448239794709704, 657: 0.25448239794715727, 658: 0.2544823979472153, 659: 0.254482397947271, 660: 0.25448239794732447, 661: 0.2544823979473758, 662: 0.25448239794742544, 663: 0.25448239794747296, 664: 0.2544823979475186, 665: 0.2544823979475624, 666: 0.25448239794760463, 667: 0.25448239794764527, 668: 0.2544823979476843, 669: 0.25448239794772165, 670: 0.25448239794775773, 671: 0.25448239794779215, 672: 0.25448239794782557, 673: 0.25448239794785754, 674: 0.25448239794788824, 675: 0.2544823979479178, 676: 0.25448239794794614, 677: 0.2544823979479735, 678: 0.2544823979479998, 679: 0.2544823979480249, 680: 0.2544823979480491, 681: 0.25448239794807226, 682: 0.25448239794809474, 683: 0.2544823979481163, 684: 0.25448239794813693, 685: 0.2544823979481568, 686: 0.2544823979481759, 687: 0.2544823979481942, 688: 0.254482397948212, 689: 0.2544823979482289, 690: 0.25448239794824523, 691: 0.25448239794826083, 692: 0.254482397948276, 693: 0.2544823979482905, 694: 0.2544823979483043, 695: 0.25448239794831773, 696: 0.2544823979483306, 697: 0.2544823979483429, 698: 0.25448239794835475, 699: 0.2544823979483661, 700: 0.2544823979483771, 701: 0.2544823979483876, 702: 0.25448239794839783, 703: 0.25448239794840755, 704: 0.25448239794841687, 705: 0.25448239794842586, 706: 0.2544823979484345, 707: 0.2544823979484428, 708: 0.25448239794845084, 709: 0.25448239794845845, 710: 0.25448239794846594, 711: 0.2544823979484729, 712: 0.2544823979484798, 713: 0.2544823979484863, 714: 0.2544823979484926, 715: 0.25448239794849875, 716: 0.2544823979485046, 717: 0.25448239794851, 718: 0.2544823979485155, 719: 0.2544823979485206, 720: 0.2544823979485256, 721: 0.2544823979485304, 722: 0.25448239794853494, 723: 0.2544823979485394, 724: 0.2544823979485436, 725: 0.25448239794854766, 726: 0.2544823979485516, 727: 0.2544823979485553, 728: 0.25448239794855904, 729: 0.2544823979485624, 730: 0.2544823979485658, 731: 0.25448239794856886, 732: 0.2544823979485721, 733: 0.25448239794857497, 734: 0.2544823979485779, 735: 0.2544823979485805, 736: 0.25448239794858324, 737: 0.25448239794858574, 738: 0.25448239794858823, 739: 0.2544823979485905, 740: 0.25448239794859284, 741: 0.25448239794859495, 742: 0.2544823979485971, 743: 0.254482397948599, 744: 0.25448239794860095, 745: 0.25448239794860267, 746: 0.25448239794860456, 747: 0.25448239794860616, 748: 0.2544823979486079, 749: 0.25448239794860944, 750: 0.25448239794861105, 751: 0.25448239794861244, 752: 0.2544823979486138, 753: 0.2544823979486152, 754: 0.25448239794861643, 755: 0.2544823979486178, 756: 0.2544823979486189, 757: 0.25448239794862, 758: 0.2544823979486212, 759: 0.25448239794862215, 760: 0.2544823979486232, 761: 0.25448239794862415, 762: 0.2544823979486251, 763: 0.254482397948626, 764: 0.2544823979486268, 765: 0.25448239794862765, 766: 0.2544823979486286, 767: 0.25448239794862926, 768: 0.25448239794863003, 769: 0.2544823979486308, 770: 0.25448239794863137, 771: 0.25448239794863203, 772: 0.25448239794863275, 773: 0.25448239794863325, 774: 0.2544823979486339, 775: 0.2544823979486344, 776: 0.25448239794863503, 777: 0.2544823979486356, 778: 0.2544823979486361, 779: 0.2544823979486364, 780: 0.25448239794863703, 781: 0.25448239794863736, 782: 0.2544823979486378, 783: 0.25448239794863825, 784: 0.2544823979486387, 785: 0.25448239794863897, 786: 0.2544823979486394, 787: 0.25448239794863975, 788: 0.25448239794864014, 789: 0.25448239794864036, 790: 0.2544823979486407, 791: 0.25448239794864097, 792: 0.2544823979486413, 793: 0.2544823979486415, 794: 0.2544823979486418, 795: 0.2544823979486421, 796: 0.2544823979486423, 797: 0.2544823979486424, 798: 0.2544823979486428, 799: 0.2544823979486429, 800: 0.25448239794864325}\n"
          ]
        }
      ]
    },
    {
      "cell_type": "code",
      "source": [
        "tolerance = 0.0001\n",
        "intersect_points = []\n",
        "\n",
        "for key in val_counts_empty_net:\n",
        "    if abs(val_counts_empty_net[key] - val_counts_even_strength.get(key, 0)) < tolerance:\n",
        "        intersect_points.append((key, val_counts_empty_net[key]))"
      ],
      "metadata": {
        "id": "j0oQXfokTFDm"
      },
      "execution_count": null,
      "outputs": []
    },
    {
      "cell_type": "code",
      "source": [
        "intersect_points"
      ],
      "metadata": {
        "colab": {
          "base_uri": "https://localhost:8080/"
        },
        "id": "6A5MvWI0TTjK",
        "outputId": "868d832f-f00c-4904-ae50-78fa0928333d"
      },
      "execution_count": null,
      "outputs": [
        {
          "output_type": "execute_result",
          "data": {
            "text/plain": [
              "[(0, 0.0), (1, 0.0), (2, 0.0), (469, 0.2544823953822713)]"
            ]
          },
          "metadata": {},
          "execution_count": 263
        }
      ]
    },
    {
      "cell_type": "code",
      "source": [
        "import matplotlib.pyplot as plt\n",
        "import numpy as np\n",
        "\n",
        "x = np.array(list(val_counts_even_strength.keys()))\n",
        "y1 = np.array(list(val_counts_even_strength.values()))\n",
        "y2 = np.array(list(val_counts_empty_net.values()))\n",
        "\n",
        "plt.plot(x, y1, label='Even Strength')\n",
        "plt.plot(x, y2, label='Empty Net')\n",
        "plt.xlabel('Time (s)')\n",
        "plt.ylabel('Probability of Team A Scoring on an Empty Net')\n",
        "plt.scatter(intersect_points[3][0], intersect_points[3][1], color='red', label='Intersection')\n",
        "plt.legend()\n",
        "\n",
        "plt.text(intersect_points[3][0] - 10, intersect_points[3][1] - 0.02, 'Intersection at 469 seconds')\n",
        "\n",
        "plt.show()"
      ],
      "metadata": {
        "colab": {
          "base_uri": "https://localhost:8080/",
          "height": 449
        },
        "id": "kJGkVdKRWtRm",
        "outputId": "ebda1855-2b7d-4c90-9bd0-96df223efda3"
      },
      "execution_count": null,
      "outputs": [
        {
          "output_type": "display_data",
          "data": {
            "text/plain": [
              "<Figure size 640x480 with 1 Axes>"
            ],
            "image/png": "[encoded data removed]"
          },
          "metadata": {}
        }
      ]
    },
    {
      "cell_type": "code",
      "source": [],
      "metadata": {
        "id": "jGRAsWKdu9MH"
      },
      "execution_count": null,
      "outputs": []
    },
    {
      "cell_type": "code",
      "source": [],
      "metadata": {
        "id": "wuVw4w7Zu9RK"
      },
      "execution_count": null,
      "outputs": []
    },
    {
      "cell_type": "markdown",
      "source": [
        "## Testing the Markov Momentum Model\n",
        "\n",
        "\n"
      ],
      "metadata": {
        "id": "VINXtKOExWBH"
      }
    },
    {
      "cell_type": "markdown",
      "source": [
        "## First Test\n",
        "\n",
        "Going from Team A shooting to Team A scoring."
      ],
      "metadata": {
        "id": "gQFEPMcexu4Z"
      }
    },
    {
      "cell_type": "code",
      "source": [
        "even_strength = np.array([[1, 0, 0, 0, 0, 0, 0, 0, 0],\n",
        "             [0.037, 0.512, 0, 0, 0, 0.413, 0, 0, 0.033],\n",
        "             [0.038, 0.509, 0, 0, 0, 0.432, 0, 0, 0.034],\n",
        "             [0.036, 0, 0.499, 0, 0, 0.432, 0, 0, 0.033],\n",
        "             [0.08, 0, 0, 0.42, 0, 0.42, 0, 0, 0.08],\n",
        "             [0.033, 0, 0, 0.432, 0, 0, 0.499, 0, 0.0036],\n",
        "             [0.034, 0, 0, 0.432, 0, 0, 0, 0.509, 0.038],\n",
        "             [0.033, 0, 0, 0.413, 0, 0, 0, 0.517, 0.037],\n",
        "             [0, 0, 0, 0, 0, 0, 0, 0, 1]])\n",
        "\n",
        "t = 31\n",
        "\n",
        "val_counts_even_strength = {}\n",
        "for i in range(0, 20):\n",
        " val = np.linalg.matrix_power(even_strength, i)[3][0]\n",
        " val_counts_even_strength.update({i: val})\n",
        "print(val_counts_even_strength)"
      ],
      "metadata": {
        "colab": {
          "base_uri": "https://localhost:8080/"
        },
        "id": "5UDjZiaOYCJU",
        "outputId": "f93db265-348b-42a0-d124-2daa0304f2fc"
      },
      "execution_count": null,
      "outputs": [
        {
          "output_type": "stream",
          "name": "stdout",
          "text": [
            "{0: 0.0, 1: 0.036, 2: 0.069218, 3: 0.099777187, 4: 0.12823296133099998, 5: 0.15475301467865, 6: 0.17947743615521983, 7: 0.202530093002025, 8: 0.2240244281619446, 9: 0.2440658772374106, 10: 0.2627526709476309, 11: 0.2801763791662938, 12: 0.2964223780504981, 13: 0.3115702720155414, 14: 0.32569428459285904, 15: 0.33886362232094486, 16: 0.3511428138957606, 17: 0.3625920263659565, 18: 0.37326735994887567, 19: 0.38322112291761246}\n"
          ]
        }
      ]
    },
    {
      "cell_type": "code",
      "source": [
        "empty_net = np.array([[1, 0, 0, 0, 0],\n",
        "              [0.061, 0.551, 0, 0, 0.387],\n",
        "              [0.050, 0.535, 0, 0, 0.4155],\n",
        "              [0.0386, 0, 0.464, 0, 0.497],\n",
        "              [0, 0, 0, 0, 1]])\n",
        "\n",
        "val_counts_empty_net = {}\n",
        "for i in range(0, 20):\n",
        "  val = np.linalg.matrix_power(empty_net, i)[3][0]\n",
        "  val_counts_empty_net.update({i: val})\n",
        "print(val_counts_empty_net)"
      ],
      "metadata": {
        "colab": {
          "base_uri": "https://localhost:8080/"
        },
        "id": "vCpmMHzdYCMn",
        "outputId": "af21eee8-efd1-4a03-af9e-4c5355fd5a1c"
      },
      "execution_count": null,
      "outputs": [
        {
          "output_type": "stream",
          "name": "stdout",
          "text": [
            "{0: 0.0, 1: 0.0386, 2: 0.06180000000000001, 3: 0.07694264, 4: 0.08528623464000001, 5: 0.08988355528664001, 6: 0.09241667896293865, 7: 0.0938124301085792, 8: 0.09458148898982716, 9: 0.09500524043339476, 10: 0.09523872747880052, 11: 0.0953673788408191, 12: 0.09543826574129133, 13: 0.09547732442345153, 14: 0.09549884575732179, 15: 0.09551070401228431, 16: 0.09551723791076867, 17: 0.09552083808883353, 18: 0.09552282178694729, 19: 0.09552391480460797}\n"
          ]
        }
      ]
    },
    {
      "cell_type": "code",
      "source": [
        "tolerance = 0.000000000000001\n",
        "intersect_points = []\n",
        "\n",
        "for key in val_counts_empty_net:\n",
        "    if abs(val_counts_empty_net[key] - val_counts_even_strength.get(key, 0)) < tolerance:\n",
        "        intersect_points.append((key, val_counts_empty_net[key]))"
      ],
      "metadata": {
        "id": "NjzSINQvYCOw"
      },
      "execution_count": null,
      "outputs": []
    },
    {
      "cell_type": "code",
      "source": [
        "intersect_points"
      ],
      "metadata": {
        "colab": {
          "base_uri": "https://localhost:8080/"
        },
        "id": "KHVbHBwTYCQf",
        "outputId": "8c278b96-ae76-457b-a0d6-51a06adcb918"
      },
      "execution_count": null,
      "outputs": [
        {
          "output_type": "execute_result",
          "data": {
            "text/plain": [
              "[(0, 0.0)]"
            ]
          },
          "metadata": {},
          "execution_count": 268
        }
      ]
    },
    {
      "cell_type": "code",
      "source": [
        "import matplotlib.pyplot as plt\n",
        "import numpy as np\n",
        "\n",
        "x = np.array(list(val_counts_even_strength.keys()))\n",
        "y1 = np.array(list(val_counts_even_strength.values()))\n",
        "y2 = np.array(list(val_counts_empty_net.values()))\n",
        "\n",
        "plt.plot(x*31, y1, label='Even Strength')\n",
        "plt.plot(x*31, y2, label='Empty Net')\n",
        "plt.xlim(0, 500)\n",
        "plt.xlabel('Time (s)')\n",
        "plt.ylabel('Probability of Team A Scoring on an Empty Net')\n",
        "plt.scatter(45, 0.05, color='red', label='Intersection')\n",
        "plt.text(45-10, 0.05-0.02, 'Intersection at 45 seconds')\n",
        "plt.legend()\n",
        "plt.show()"
      ],
      "metadata": {
        "colab": {
          "base_uri": "https://localhost:8080/",
          "height": 453
        },
        "id": "J5QIFryCYCTZ",
        "outputId": "3712124d-1148-461e-e30f-e2ed39397956"
      },
      "execution_count": null,
      "outputs": [
        {
          "output_type": "display_data",
          "data": {
            "text/plain": [
              "<Figure size 640x480 with 1 Axes>"
            ],
            "image/png": "[encoded data removed]"
          },
          "metadata": {}
        }
      ]
    },
    {
      "cell_type": "markdown",
      "source": [
        "## Second Test\n",
        "\n",
        "Going from Team A shooting twice to Team A scoring."
      ],
      "metadata": {
        "id": "-JFFm_xuz7MI"
      }
    },
    {
      "cell_type": "code",
      "source": [
        "even_strength = np.array([[1, 0, 0, 0, 0, 0, 0, 0, 0],\n",
        "             [0.037, 0.512, 0, 0, 0, 0.413, 0, 0, 0.033],\n",
        "             [0.038, 0.509, 0, 0, 0, 0.432, 0, 0, 0.034],\n",
        "             [0.036, 0, 0.499, 0, 0, 0.432, 0, 0, 0.033],\n",
        "             [0.08, 0, 0, 0.42, 0, 0.42, 0, 0, 0.08],\n",
        "             [0.033, 0, 0, 0.432, 0, 0, 0.499, 0, 0.0036],\n",
        "             [0.034, 0, 0, 0.432, 0, 0, 0, 0.509, 0.038],\n",
        "             [0.033, 0, 0, 0.413, 0, 0, 0, 0.517, 0.037],\n",
        "             [0, 0, 0, 0, 0, 0, 0, 0, 1]])\n",
        "\n",
        "t = 31\n",
        "\n",
        "val_counts_even_strength = {}\n",
        "for i in range(0, 20):\n",
        " val = np.linalg.matrix_power(even_strength, i)[2][0]\n",
        " val_counts_even_strength.update({i: val})\n",
        "print(val_counts_even_strength)"
      ],
      "metadata": {
        "colab": {
          "base_uri": "https://localhost:8080/"
        },
        "id": "468edIILYCXr",
        "outputId": "970b4717-5219-4018-f281-c5cec5492e4e"
      },
      "execution_count": null,
      "outputs": [
        {
          "output_type": "stream",
          "name": "stdout",
          "text": [
            "{0: 0.0, 1: 0.038, 2: 0.071089, 3: 0.101716433, 4: 0.130213739054, 5: 0.156769848030143, 6: 0.18152724666119885, 7: 0.20461049147814753, 8: 0.22613330510162197, 9: 0.24620129947018618, 10: 0.26491284223635675, 11: 0.28235962619340066, 12: 0.29862714097097887, 13: 0.313795096496616, 14: 0.3279378146215394, 15: 0.3411245935445574, 16: 0.35342004742311395, 17: 0.36488442299007123, 18: 0.3755738947607769, 19: 0.3855408402843169}\n"
          ]
        }
      ]
    },
    {
      "cell_type": "code",
      "source": [
        "empty_net = np.array([[1, 0, 0, 0, 0],\n",
        "              [0.061, 0.551, 0, 0, 0.387],\n",
        "              [0.050, 0.535, 0, 0, 0.4155],\n",
        "              [0.0386, 0, 0.464, 0, 0.497],\n",
        "              [0, 0, 0, 0, 1]])\n",
        "\n",
        "val_counts_empty_net = {}\n",
        "for i in range(0, 20):\n",
        "  val = np.linalg.matrix_power(empty_net, i)[2][0]\n",
        "  val_counts_empty_net.update({i: val})\n",
        "print(val_counts_empty_net)"
      ],
      "metadata": {
        "colab": {
          "base_uri": "https://localhost:8080/"
        },
        "id": "9lxeSN9FYCZ7",
        "outputId": "5094ff5a-c548-4627-bc7e-19475a45bf14"
      },
      "execution_count": null,
      "outputs": [
        {
          "output_type": "stream",
          "name": "stdout",
          "text": [
            "{0: 0.0, 1: 0.05, 2: 0.082635, 3: 0.100616885, 4: 0.110524903635, 5: 0.11598422190288502, 6: 0.11899230626848964, 7: 0.1206497607539378, 8: 0.12156301817541973, 9: 0.12206622301465628, 10: 0.12234348888107562, 11: 0.12249626237347266, 12: 0.12258044056778344, 13: 0.1226268227528487, 14: 0.12265237933681962, 15: 0.12266646101458761, 16: 0.12267422001903779, 17: 0.12267849523048983, 18: 0.1226808508719999, 19: 0.12268214883047195}\n"
          ]
        }
      ]
    },
    {
      "cell_type": "code",
      "source": [
        "tolerance = 0.000000000000001\n",
        "intersect_points = []\n",
        "\n",
        "for key in val_counts_empty_net:\n",
        "    if abs(val_counts_empty_net[key] - val_counts_even_strength.get(key, 0)) < tolerance:\n",
        "        intersect_points.append((key, val_counts_empty_net[key]))"
      ],
      "metadata": {
        "id": "Md1Z2vmmYCbp"
      },
      "execution_count": null,
      "outputs": []
    },
    {
      "cell_type": "code",
      "source": [
        "import matplotlib.pyplot as plt\n",
        "import numpy as np\n",
        "\n",
        "x = np.array(list(val_counts_even_strength.keys()))\n",
        "y1 = np.array(list(val_counts_even_strength.values()))\n",
        "y2 = np.array(list(val_counts_empty_net.values()))\n",
        "\n",
        "plt.plot(x*31, y1, label='Even Strength')\n",
        "plt.plot(x*31, y2, label='Empty Net')\n",
        "plt.xlim(0, 500)\n",
        "plt.xlabel('Time (s)')\n",
        "plt.ylabel('Probability of Team A Scoring on an Empty Net')\n",
        "plt.scatter(92, 0.1, color='red', label='Intersection')\n",
        "plt.text(92-15, 0.1-.05, 'Intersection at 92 seconds')\n",
        "plt.legend()\n",
        "plt.show()"
      ],
      "metadata": {
        "colab": {
          "base_uri": "https://localhost:8080/",
          "height": 451
        },
        "id": "g8BpiCwUYCdw",
        "outputId": "0abafc69-9f90-4adb-90c0-3bbaffcbb15f"
      },
      "execution_count": null,
      "outputs": [
        {
          "output_type": "display_data",
          "data": {
            "text/plain": [
              "<Figure size 640x480 with 1 Axes>"
            ],
            "image/png": "[encoded data removed]"
          },
          "metadata": {}
        }
      ]
    },
    {
      "cell_type": "markdown",
      "source": [
        "## Third Test\n",
        "\n",
        "Going from Team A shooting three or more times to Team A scoring."
      ],
      "metadata": {
        "id": "OPZEdckfzWTO"
      }
    },
    {
      "cell_type": "code",
      "source": [
        "even_strength = np.array([[1, 0, 0, 0, 0, 0, 0, 0, 0],\n",
        "             [0.037, 0.512, 0, 0, 0, 0.413, 0, 0, 0.033],\n",
        "             [0.038, 0.509, 0, 0, 0, 0.432, 0, 0, 0.034],\n",
        "             [0.036, 0, 0.499, 0, 0, 0.432, 0, 0, 0.033],\n",
        "             [0.08, 0, 0, 0.42, 0, 0.42, 0, 0, 0.08],\n",
        "             [0.033, 0, 0, 0.432, 0, 0, 0.499, 0, 0.0036],\n",
        "             [0.034, 0, 0, 0.432, 0, 0, 0, 0.509, 0.038],\n",
        "             [0.033, 0, 0, 0.413, 0, 0, 0, 0.517, 0.037],\n",
        "             [0, 0, 0, 0, 0, 0, 0, 0, 1]])\n",
        "\n",
        "t = 31\n",
        "\n",
        "val_counts_even_strength = {}\n",
        "for i in range(0, 20):\n",
        " val = np.linalg.matrix_power(even_strength, i)[1][0]\n",
        " val_counts_even_strength.update({i: val})\n",
        "print(val_counts_even_strength)"
      ],
      "metadata": {
        "colab": {
          "base_uri": "https://localhost:8080/"
        },
        "id": "1CdtjxIrYCf2",
        "outputId": "e1c6f768-7390-4ac1-b2ae-64d35342e6c5"
      },
      "execution_count": null,
      "outputs": [
        {
          "output_type": "stream",
          "name": "stdout",
          "text": [
            "{0: 0.0, 1: 0.037, 2: 0.069573, 3: 0.09968030999999998, 4: 0.12768858377099998, 5: 0.15378774984876298, 6: 0.1781188498233021, 7: 0.200804542607609, 8: 0.22195666302256367, 9: 0.2416790171401744, 10: 0.2600682815384065, 11: 0.2772145705127458, 12: 0.29320190142552666, 13: 0.30810861135656525, 14: 0.32200774208204447, 15: 0.33496739824378696, 16: 0.347051081116402, 17: 0.3583179997719977, 18: 0.3688233612030101, 19: 0.37861864083272295}\n"
          ]
        }
      ]
    },
    {
      "cell_type": "code",
      "source": [
        "empty_net = np.array([[1, 0, 0, 0, 0],\n",
        "              [0.061, 0.551, 0, 0, 0.387],\n",
        "              [0.050, 0.535, 0, 0, 0.4155],\n",
        "              [0.0386, 0, 0.464, 0, 0.497],\n",
        "              [0, 0, 0, 0, 1]])\n",
        "\n",
        "val_counts_empty_net = {}\n",
        "for i in range(0, 20):\n",
        "  val = np.linalg.matrix_power(empty_net, i)[1][0]\n",
        "  val_counts_empty_net.update({i: val})\n",
        "print(val_counts_empty_net)"
      ],
      "metadata": {
        "colab": {
          "base_uri": "https://localhost:8080/"
        },
        "id": "aYV7R2NgzXzK",
        "outputId": "3efb4204-c08c-476f-fcea-fbb4541d839c"
      },
      "execution_count": null,
      "outputs": [
        {
          "output_type": "stream",
          "name": "stdout",
          "text": [
            "{0: 0.0, 1: 0.061, 2: 0.094611, 3: 0.11313066100000001, 4: 0.12333499421100001, 5: 0.128957581810261, 6: 0.13205562757745382, 7: 0.13376265079517707, 8: 0.13470322058814257, 9: 0.13522147454406655, 10: 0.13550703247378068, 11: 0.13566437489305316, 12: 0.1357510705660723, 13: 0.13579883988190586, 14: 0.13582516077493012, 15: 0.13583966358698651, 16: 0.1358476546364296, 17: 0.1358520577046727, 18: 0.13585448379527468, 19: 0.13585582057119636}\n"
          ]
        }
      ]
    },
    {
      "cell_type": "code",
      "source": [
        "tolerance = 0.000000000000001\n",
        "intersect_points = []\n",
        "\n",
        "for key in val_counts_empty_net:\n",
        "    if abs(val_counts_empty_net[key] - val_counts_even_strength.get(key, 0)) < tolerance:\n",
        "        intersect_points.append((key, val_counts_empty_net[key]))"
      ],
      "metadata": {
        "id": "wM8Jm9iAzYE-"
      },
      "execution_count": null,
      "outputs": []
    },
    {
      "cell_type": "code",
      "source": [
        "import matplotlib.pyplot as plt\n",
        "import numpy as np\n",
        "\n",
        "x = np.array(list(val_counts_even_strength.keys()))\n",
        "y1 = np.array(list(val_counts_even_strength.values()))\n",
        "y2 = np.array(list(val_counts_empty_net.values()))\n",
        "\n",
        "plt.plot(x*31, y1, label='Even Strength')\n",
        "plt.plot(x*31, y2, label='Empty Net')\n",
        "plt.xlim(0, 500)\n",
        "plt.xlabel('Time (s)')\n",
        "plt.ylabel('Probability of Team A Scoring on an Empty Net')\n",
        "plt.scatter(115, 0.12, color='red', label='Intersection')\n",
        "plt.text(115-15, 0.12-.05, 'Intersection at 115 seconds')\n",
        "plt.legend()\n",
        "plt.show()"
      ],
      "metadata": {
        "colab": {
          "base_uri": "https://localhost:8080/",
          "height": 449
        },
        "id": "ZVc3HgJkzYQ4",
        "outputId": "c1932639-ef01-447a-f563-cc589fb811c8"
      },
      "execution_count": null,
      "outputs": [
        {
          "output_type": "display_data",
          "data": {
            "text/plain": [
              "<Figure size 640x480 with 1 Axes>"
            ],
            "image/png": "[encoded data removed]"
          },
          "metadata": {}
        }
      ]
    },
    {
      "cell_type": "markdown",
      "source": [
        "## Fourth Test\n",
        "\n",
        "The probability form the even strength matrix that Team A will score from a neutral position after 465 seconds. (t=15)"
      ],
      "metadata": {
        "id": "zZpdcdTx0H-k"
      }
    },
    {
      "cell_type": "code",
      "source": [
        "even_strength = np.array([[1, 0, 0, 0, 0, 0, 0, 0, 0],\n",
        "             [0.037, 0.512, 0, 0, 0, 0.413, 0, 0, 0.033],\n",
        "             [0.038, 0.509, 0, 0, 0, 0.432, 0, 0, 0.034],\n",
        "             [0.036, 0, 0.499, 0, 0, 0.432, 0, 0, 0.033],\n",
        "             [0.08, 0, 0, 0.42, 0, 0.42, 0, 0, 0.08],\n",
        "             [0.033, 0, 0, 0.432, 0, 0, 0.499, 0, 0.0036],\n",
        "             [0.034, 0, 0, 0.432, 0, 0, 0, 0.509, 0.038],\n",
        "             [0.033, 0, 0, 0.413, 0, 0, 0, 0.517, 0.037],\n",
        "             [0, 0, 0, 0, 0, 0, 0, 0, 1]])\n",
        "\n",
        "val_counts_even_strength = {}\n",
        "for i in range(0, 20):\n",
        " val = np.linalg.matrix_power(even_strength, i)[1][0]\n",
        " val_counts_even_strength.update({i: val})\n",
        "print(val_counts_even_strength)"
      ],
      "metadata": {
        "colab": {
          "base_uri": "https://localhost:8080/"
        },
        "id": "9ACvKT6yzYXs",
        "outputId": "9a9ea6e0-447f-4b08-961f-c0d0af45b5ab"
      },
      "execution_count": null,
      "outputs": [
        {
          "output_type": "stream",
          "name": "stdout",
          "text": [
            "{0: 0.0, 1: 0.037, 2: 0.069573, 3: 0.09968030999999998, 4: 0.12768858377099998, 5: 0.15378774984876298, 6: 0.1781188498233021, 7: 0.200804542607609, 8: 0.22195666302256367, 9: 0.2416790171401744, 10: 0.2600682815384065, 11: 0.2772145705127458, 12: 0.29320190142552666, 13: 0.30810861135656525, 14: 0.32200774208204447, 15: 0.33496739824378696, 16: 0.347051081116402, 17: 0.3583179997719977, 18: 0.3688233612030101, 19: 0.37861864083272295}\n"
          ]
        }
      ]
    },
    {
      "cell_type": "code",
      "source": [
        "val_counts_even_strength[15]"
      ],
      "metadata": {
        "colab": {
          "base_uri": "https://localhost:8080/"
        },
        "id": "FNDAo_Td0soq",
        "outputId": "2e00d17e-689f-4585-c5ca-fc3dcc68bd7a"
      },
      "execution_count": null,
      "outputs": [
        {
          "output_type": "execute_result",
          "data": {
            "text/plain": [
              "0.33496739824378696"
            ]
          },
          "metadata": {},
          "execution_count": 279
        }
      ]
    },
    {
      "cell_type": "code",
      "source": [],
      "metadata": {
        "id": "Q9PwvPPSEtEC"
      },
      "execution_count": null,
      "outputs": []
    }
  ],
  "metadata": {
    "colab": {
      "provenance": [],
      "include_colab_link": true
    },
    "kernelspec": {
      "display_name": "Python 3",
      "name": "python3"
    },
    "language_info": {
      "name": "python"
    }
  },
  "nbformat": 4,
  "nbformat_minor": 0
}